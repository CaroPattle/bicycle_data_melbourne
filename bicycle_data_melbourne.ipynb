{
 "cells": [
  {
   "cell_type": "markdown",
   "id": "8a2915d5",
   "metadata": {},
   "source": [
    "# Bicycle data melbourne analysis"
   ]
  },
  {
   "cell_type": "code",
   "execution_count": 13,
   "id": "29df2268",
   "metadata": {},
   "outputs": [],
   "source": [
    "import pandas as pd\n",
    "import numpy as np\n",
    "import os\n",
    "from collections import Counter\n",
    "from tqdm import tqdm"
   ]
  },
  {
   "cell_type": "markdown",
   "id": "c47d509b",
   "metadata": {},
   "source": [
    "## Data validation \n",
    "\n",
    "The bicycle data is delivered in a large number of CSV files, without an accompanying data dictionary.  To be sure the same columns are shared by all CSVs, such that they can be appended to a master file, we iterate over them and tally up the unique column combinations.  Ideally, the results will be a single combination of columns with a tally count the length of the number of CSV files.  Let's see!"
   ]
  },
  {
   "cell_type": "code",
   "execution_count": null,
   "id": "37b16054",
   "metadata": {},
   "outputs": [
    {
     "name": "stderr",
     "output_type": "stream",
     "text": [
      "279it [06:22,  1.26s/it]"
     ]
    }
   ],
   "source": [
    "rootdir ='../data'\n",
    "column_array = []\n",
    "tally = pd.DataFrame(columns=[\"count\"])\n",
    "counter = 0\n",
    "for subdir, dirs, files in tqdm(os.walk(rootdir)):\n",
    "    for file in files:\n",
    "        if ('.csv' in file) and ('.zip' not in file):\n",
    "            # read in CSV\n",
    "            df = pd.read_csv(os.path.join(subdir,file))\n",
    "            # store list of columns in variable df_columns as a string\n",
    "            df_columns = f\"{df.columns.to_list()}\"\n",
    "            # if CSV columns string is in the tally index, increment this\n",
    "            if df_columns in tally.index:\n",
    "                tally[tally.index==df_columns] += 1\n",
    "            # otherwise add CSV columns string to the tally index\n",
    "            else:\n",
    "                tally.loc[df_columns] = 1\n",
    "            # increment a counter; athough theoretically this should only sum to the sum of tallys!\n",
    "            counter+=1\n",
    "            \n",
    "print(counter)"
   ]
  },
  {
   "cell_type": "code",
   "execution_count": null,
   "id": "4372809f",
   "metadata": {},
   "outputs": [],
   "source": [
    "tally"
   ]
  }
 ],
 "metadata": {
  "kernelspec": {
   "display_name": "Python 3 (ipykernel)",
   "language": "python",
   "name": "python3"
  },
  "language_info": {
   "codemirror_mode": {
    "name": "ipython",
    "version": 3
   },
   "file_extension": ".py",
   "mimetype": "text/x-python",
   "name": "python",
   "nbconvert_exporter": "python",
   "pygments_lexer": "ipython3",
   "version": "3.8.12"
  }
 },
 "nbformat": 4,
 "nbformat_minor": 5
}
