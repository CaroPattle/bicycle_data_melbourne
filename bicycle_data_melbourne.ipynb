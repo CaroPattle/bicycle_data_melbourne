{
 "cells": [
  {
   "cell_type": "markdown",
   "id": "1df4fbd5",
   "metadata": {},
   "source": [
    "# Bicycle data melbourne analysis"
   ]
  },
  {
   "cell_type": "code",
   "execution_count": 2,
   "id": "29df2268",
   "metadata": {},
   "outputs": [],
   "source": [
    "import pandas as pd\n",
    "import numpy as np\n",
    "import os\n",
    "from collections import Counter\n",
    "from tqdm.notebook import tqdm"
   ]
  },
  {
   "cell_type": "markdown",
   "id": "5e87e01f",
   "metadata": {},
   "source": [
    "## Data validation \n",
    "\n",
    "The bicycle data is delivered in a large number of CSV files, without an accompanying data dictionary.  To be sure the same columns are shared by all CSVs, such that they can be appended to a master file, we iterate over them and tally up the unique column combinations.  Ideally, the results will be a single combination of columns with a tally count the length of the number of CSV files.  Let's see!"
   ]
  },
  {
   "cell_type": "code",
   "execution_count": 2,
   "id": "37b16054",
   "metadata": {},
   "outputs": [],
   "source": [
    "#rootdir ='../data'\n",
    "#tally = pd.DataFrame(columns=[\"count\",\"len\"])\n",
    "#counter = 0\n",
    "#for subdir, dirs, files in tqdm(os.walk(rootdir)):\n",
    "#    for file in files:\n",
    "#        if ('.csv' in file) and ('.zip' not in file):\n",
    "#            # read in CSV, if it contains records (which at least one doesn't!)\n",
    "#            file_path = os.path.join(subdir,file)\n",
    "#            if os.path.getsize(file_path) > 0:\n",
    "#                df = pd.read_csv(os.path.join(subdir,file))\n",
    "#                # store list of columns in variable df_columns as a string\n",
    "#                df_columns = f\"{df.columns.to_list()}\"\n",
    "#                # if CSV columns string is in the tally index, increment this\n",
    "#                if df_columns in tally.index:\n",
    "#                    tally[tally.index==df_columns] += 1\n",
    "#                # otherwise add CSV columns string to the tally index\n",
    "#                else:\n",
    "#                    tally.loc[df_columns] = 1\n",
    "#                # increment a counter; athough theoretically this should only sum to the sum of tallys!\n",
    "#                counter+=1\n",
    "#\n",
    "#print(counter)"
   ]
  },
  {
   "cell_type": "code",
   "execution_count": 8,
   "id": "627d1e60",
   "metadata": {},
   "outputs": [
    {
     "data": {
      "text/html": [
       "<div>\n",
       "<style scoped>\n",
       "    .dataframe tbody tr th:only-of-type {\n",
       "        vertical-align: middle;\n",
       "    }\n",
       "\n",
       "    .dataframe tbody tr th {\n",
       "        vertical-align: top;\n",
       "    }\n",
       "\n",
       "    .dataframe thead th {\n",
       "        text-align: right;\n",
       "    }\n",
       "</style>\n",
       "<table border=\"1\" class=\"dataframe\">\n",
       "  <thead>\n",
       "    <tr style=\"text-align: right;\">\n",
       "      <th></th>\n",
       "      <th>count</th>\n",
       "    </tr>\n",
       "  </thead>\n",
       "  <tbody>\n",
       "    <tr>\n",
       "      <th>['DATA_TYPE', 'TIS_DATA_REQUEST', 'SITE_XN_ROUTE', 'LOC_LEG', 'DATE', 'TIME', 'CLASS', 'LANE', 'SPEED', 'WHEELBASE', 'HEADWAY', 'GAP', 'AXLE', 'AXLE_GROUPING', 'RHO', 'VEHICLE', 'DIRECTION']</th>\n",
       "      <td>13229</td>\n",
       "    </tr>\n",
       "  </tbody>\n",
       "</table>\n",
       "</div>"
      ],
      "text/plain": [
       "                                                    count\n",
       "['DATA_TYPE', 'TIS_DATA_REQUEST', 'SITE_XN_ROUT...  13229"
      ]
     },
     "execution_count": 8,
     "metadata": {},
     "output_type": "execute_result"
    }
   ],
   "source": [
    "tally"
   ]
  },
  {
   "cell_type": "markdown",
   "id": "68e59674",
   "metadata": {},
   "source": [
    "## Start Dask dashboard\n",
    "The bicycle data is comprised of more than 16,000 CSV files; this is a very large multi-gigabyte dataset, and so rather than use Pandas which will struggle to load and manipulate the data, [Dask](https://dask.org) could provide a good option for parallel processing.\n",
    "\n",
    "The use of the dashboard is optional, though.  So, commented out for now."
   ]
  },
  {
   "cell_type": "code",
   "execution_count": 1,
   "id": "7a0da80b",
   "metadata": {},
   "outputs": [
    {
     "data": {
      "text/html": [
       "<div>\n",
       "    <div style=\"width: 24px; height: 24px; background-color: #e1e1e1; border: 3px solid #9D9D9D; border-radius: 5px; position: absolute;\"> </div>\n",
       "    <div style=\"margin-left: 48px;\">\n",
       "        <h3 style=\"margin-bottom: 0px;\">Client</h3>\n",
       "        <p style=\"color: #9D9D9D; margin-bottom: 0px;\">Client-83b14574-4122-11ec-b04c-9c5a441927ce</p>\n",
       "        <table style=\"width: 100%; text-align: left;\">\n",
       "\n",
       "        <tr>\n",
       "        \n",
       "            <td style=\"text-align: left;\"><strong>Connection method:</strong> Cluster object</td>\n",
       "            <td style=\"text-align: left;\"><strong>Cluster type:</strong> distributed.LocalCluster</td>\n",
       "        \n",
       "        </tr>\n",
       "\n",
       "        \n",
       "            <tr>\n",
       "                <td style=\"text-align: left;\">\n",
       "                    <strong>Dashboard: </strong> <a href=\"http://192.168.1.4:8787/status\" target=\"_blank\">http://192.168.1.4:8787/status</a>\n",
       "                </td>\n",
       "                <td style=\"text-align: left;\"></td>\n",
       "            </tr>\n",
       "        \n",
       "\n",
       "        </table>\n",
       "\n",
       "        \n",
       "            <details>\n",
       "            <summary style=\"margin-bottom: 20px;\"><h3 style=\"display: inline;\">Cluster Info</h3></summary>\n",
       "            <div class=\"jp-RenderedHTMLCommon jp-RenderedHTML jp-mod-trusted jp-OutputArea-output\">\n",
       "    <div style=\"width: 24px; height: 24px; background-color: #e1e1e1; border: 3px solid #9D9D9D; border-radius: 5px; position: absolute;\">\n",
       "    </div>\n",
       "    <div style=\"margin-left: 48px;\">\n",
       "        <h3 style=\"margin-bottom: 0px; margin-top: 0px;\">LocalCluster</h3>\n",
       "        <p style=\"color: #9D9D9D; margin-bottom: 0px;\">970560c4</p>\n",
       "        <table style=\"width: 100%; text-align: left;\">\n",
       "            <tr>\n",
       "                <td style=\"text-align: left;\">\n",
       "                    <strong>Dashboard:</strong> <a href=\"http://192.168.1.4:8787/status\" target=\"_blank\">http://192.168.1.4:8787/status</a>\n",
       "                </td>\n",
       "                <td style=\"text-align: left;\">\n",
       "                    <strong>Workers:</strong> 1\n",
       "                </td>\n",
       "            </tr>\n",
       "            <tr>\n",
       "                <td style=\"text-align: left;\">\n",
       "                    <strong>Total threads:</strong> 4\n",
       "                </td>\n",
       "                <td style=\"text-align: left;\">\n",
       "                    <strong>Total memory:</strong> 1.86 GiB\n",
       "                </td>\n",
       "            </tr>\n",
       "            \n",
       "            <tr>\n",
       "    <td style=\"text-align: left;\"><strong>Status:</strong> running</td>\n",
       "    <td style=\"text-align: left;\"><strong>Using processes:</strong> False</td>\n",
       "</tr>\n",
       "\n",
       "            \n",
       "        </table>\n",
       "\n",
       "        <details>\n",
       "            <summary style=\"margin-bottom: 20px;\">\n",
       "                <h3 style=\"display: inline;\">Scheduler Info</h3>\n",
       "            </summary>\n",
       "\n",
       "            <div style=\"\">\n",
       "    <div>\n",
       "        <div style=\"width: 24px; height: 24px; background-color: #FFF7E5; border: 3px solid #FF6132; border-radius: 5px; position: absolute;\"> </div>\n",
       "        <div style=\"margin-left: 48px;\">\n",
       "            <h3 style=\"margin-bottom: 0px;\">Scheduler</h3>\n",
       "            <p style=\"color: #9D9D9D; margin-bottom: 0px;\">Scheduler-e8404976-01bb-4bbc-8872-cb500be457f0</p>\n",
       "            <table style=\"width: 100%; text-align: left;\">\n",
       "                <tr>\n",
       "                    <td style=\"text-align: left;\">\n",
       "                        <strong>Comm:</strong> inproc://192.168.1.4/12364/1\n",
       "                    </td>\n",
       "                    <td style=\"text-align: left;\">\n",
       "                        <strong>Workers:</strong> 1\n",
       "                    </td>\n",
       "                </tr>\n",
       "                <tr>\n",
       "                    <td style=\"text-align: left;\">\n",
       "                        <strong>Dashboard:</strong> <a href=\"http://192.168.1.4:8787/status\" target=\"_blank\">http://192.168.1.4:8787/status</a>\n",
       "                    </td>\n",
       "                    <td style=\"text-align: left;\">\n",
       "                        <strong>Total threads:</strong> 4\n",
       "                    </td>\n",
       "                </tr>\n",
       "                <tr>\n",
       "                    <td style=\"text-align: left;\">\n",
       "                        <strong>Started:</strong> Just now\n",
       "                    </td>\n",
       "                    <td style=\"text-align: left;\">\n",
       "                        <strong>Total memory:</strong> 1.86 GiB\n",
       "                    </td>\n",
       "                </tr>\n",
       "            </table>\n",
       "        </div>\n",
       "    </div>\n",
       "\n",
       "    <details style=\"margin-left: 48px;\">\n",
       "        <summary style=\"margin-bottom: 20px;\">\n",
       "            <h3 style=\"display: inline;\">Workers</h3>\n",
       "        </summary>\n",
       "\n",
       "        \n",
       "        <div style=\"margin-bottom: 20px;\">\n",
       "            <div style=\"width: 24px; height: 24px; background-color: #DBF5FF; border: 3px solid #4CC9FF; border-radius: 5px; position: absolute;\"> </div>\n",
       "            <div style=\"margin-left: 48px;\">\n",
       "            <details>\n",
       "                <summary>\n",
       "                    <h4 style=\"margin-bottom: 0px; display: inline;\">Worker: 0</h4>\n",
       "                </summary>\n",
       "                <table style=\"width: 100%; text-align: left;\">\n",
       "                    <tr>\n",
       "                        <td style=\"text-align: left;\">\n",
       "                            <strong>Comm: </strong> inproc://192.168.1.4/12364/4\n",
       "                        </td>\n",
       "                        <td style=\"text-align: left;\">\n",
       "                            <strong>Total threads: </strong> 4\n",
       "                        </td>\n",
       "                    </tr>\n",
       "                    <tr>\n",
       "                        <td style=\"text-align: left;\">\n",
       "                            <strong>Dashboard: </strong> <a href=\"http://192.168.1.4:55991/status\" target=\"_blank\">http://192.168.1.4:55991/status</a>\n",
       "                        </td>\n",
       "                        <td style=\"text-align: left;\">\n",
       "                            <strong>Memory: </strong> 1.86 GiB\n",
       "                        </td>\n",
       "                    </tr>\n",
       "                    <tr>\n",
       "                        <td style=\"text-align: left;\">\n",
       "                            <strong>Nanny: </strong> None\n",
       "                        </td>\n",
       "                        <td style=\"text-align: left;\"></td>\n",
       "                    </tr>\n",
       "                    <tr>\n",
       "                        <td colspan=\"2\" style=\"text-align: left;\">\n",
       "                            <strong>Local directory: </strong> G:\\My Drive\\DPC\\Bicycle\\bicycle_data_melbourne\\dask-worker-space\\worker-j8b9akch\n",
       "                        </td>\n",
       "                    </tr>\n",
       "\n",
       "                    \n",
       "\n",
       "                    \n",
       "\n",
       "                </table>\n",
       "            </details>\n",
       "            </div>\n",
       "        </div>\n",
       "        \n",
       "\n",
       "    </details>\n",
       "</div>\n",
       "\n",
       "        </details>\n",
       "    </div>\n",
       "</div>\n",
       "            </details>\n",
       "        \n",
       "\n",
       "    </div>\n",
       "</div>"
      ],
      "text/plain": [
       "<Client: 'inproc://192.168.1.4/12364/1' processes=1 threads=4, memory=1.86 GiB>"
      ]
     },
     "execution_count": 1,
     "metadata": {},
     "output_type": "execute_result"
    }
   ],
   "source": [
    "# from dask.distributed import Client\n",
    "# client = Client(n_workers=1, threads_per_worker=4, processes=False, memory_limit='2GB')\n",
    "# client"
   ]
  },
  {
   "cell_type": "markdown",
   "id": "6c9ecafb",
   "metadata": {},
   "source": [
    "## Creating a master dataframe\n",
    "\n",
    "Now that we know that all of the CSVs share the same column names, we will join the various files together to create a master dataframe to run the analysis on. "
   ]
  },
  {
   "cell_type": "code",
   "execution_count": 3,
   "id": "3651e86e",
   "metadata": {
    "scrolled": true
   },
   "outputs": [
    {
     "data": {
      "application/vnd.jupyter.widget-view+json": {
       "model_id": "bc089836aba4414b8e3f57cd65cbe6d0",
       "version_major": 2,
       "version_minor": 0
      },
      "text/plain": [
       "Getting CSV file paths...: 0CSVs [00:00, ?CSVs/s]"
      ]
     },
     "metadata": {},
     "output_type": "display_data"
    },
    {
     "name": "stdout",
     "output_type": "stream",
     "text": [
      "Identified the locations of 1430 valid CSV files to compile!\n"
     ]
    }
   ],
   "source": [
    "data_years = ['Bicycle_Volume_Speed_2017',\n",
    "'Bicycle_Volume_Speed_2018',\n",
    "'Bicycle_Volume_Speed_2019',\n",
    "'Bicycle_Volume_Speed_2020',\n",
    "'Bicycle_Volume_Speed_2021']\n",
    "\n",
    "rootdir = f'../data/{data_years[0]}'\n",
    "csv_files = []\n",
    "\n",
    "for subdir, dirs, files in tqdm(os.walk(rootdir),desc=\"Getting CSV file paths...\",unit=\"CSVs\"):\n",
    "    for file in files:\n",
    "        if ('.csv' in file) and ('.zip' not in file):\n",
    "            # record filepaths of CSVs containing records\n",
    "            file_path = os.path.join(subdir,file)\n",
    "            if os.path.getsize(file_path) > 0:\n",
    "                csv_files.append(os.path.join(subdir,file))\n",
    "\n",
    "print(f\"Identified the locations of {len(csv_files)} valid CSV files to compile!\")"
   ]
  },
  {
   "cell_type": "code",
   "execution_count": 18,
   "id": "d354ee7a",
   "metadata": {},
   "outputs": [
    {
     "data": {
      "application/vnd.jupyter.widget-view+json": {
       "model_id": "ba2cf1f16f5d4eb49c701e273efa0703",
       "version_major": 2,
       "version_minor": 0
      },
      "text/plain": [
       "Reading csv files for ../data/Bicycle_Volume_Speed_2017...:   0%|          | 0/1430 [00:00<?, ?CSVs/s]"
      ]
     },
     "metadata": {},
     "output_type": "display_data"
    }
   ],
   "source": [
    "dfs=[]\n",
    "for csv in tqdm(csv_files,desc=f\"Reading csv files for {rootdir}...\",unit=\"CSVs\"):\n",
    "    csv_df = pd.read_csv(csv, index_col=None, header=0)\n",
    "    dfs.append(csv_df)\n",
    "    del csv_df\n",
    "\n",
    "dfs = pd.concat(dfs, axis=0, ignore_index=True)"
   ]
  },
  {
   "cell_type": "markdown",
   "id": "ecb1771b",
   "metadata": {},
   "source": [
    "## Summary statistics\n",
    "\n",
    "Let's look at the summary statistics for the master dataframe! First we'll look at what type of data is included in each column. Then we can see can check the max/min values, and the distribution of the data, to see if there are any outlying data points. "
   ]
  },
  {
   "cell_type": "code",
   "execution_count": 21,
   "id": "9d3076e6",
   "metadata": {},
   "outputs": [
    {
     "name": "stdout",
     "output_type": "stream",
     "text": [
      "<class 'pandas.core.frame.DataFrame'>\n",
      "RangeIndex: 9989156 entries, 0 to 9989155\n",
      "Data columns (total 17 columns):\n",
      " #   Column            Dtype  \n",
      "---  ------            -----  \n",
      " 0   DATA_TYPE         object \n",
      " 1   TIS_DATA_REQUEST  object \n",
      " 2   SITE_XN_ROUTE     object \n",
      " 3   LOC_LEG           object \n",
      " 4   DATE              object \n",
      " 5   TIME              object \n",
      " 6   CLASS             object \n",
      " 7   LANE              object \n",
      " 8   SPEED             float64\n",
      " 9   WHEELBASE         float64\n",
      " 10  HEADWAY           float64\n",
      " 11  GAP               float64\n",
      " 12  AXLE              object \n",
      " 13  AXLE_GROUPING     object \n",
      " 14  RHO               float64\n",
      " 15  VEHICLE           object \n",
      " 16  DIRECTION         object \n",
      "dtypes: float64(5), object(12)\n",
      "memory usage: 1.3+ GB\n"
     ]
    }
   ],
   "source": [
    "dfs.info()"
   ]
  },
  {
   "cell_type": "code",
   "execution_count": 23,
   "id": "02aefb02",
   "metadata": {
    "scrolled": true
   },
   "outputs": [
    {
     "data": {
      "text/html": [
       "<div>\n",
       "<style scoped>\n",
       "    .dataframe tbody tr th:only-of-type {\n",
       "        vertical-align: middle;\n",
       "    }\n",
       "\n",
       "    .dataframe tbody tr th {\n",
       "        vertical-align: top;\n",
       "    }\n",
       "\n",
       "    .dataframe thead th {\n",
       "        text-align: right;\n",
       "    }\n",
       "</style>\n",
       "<table border=\"1\" class=\"dataframe\">\n",
       "  <thead>\n",
       "    <tr style=\"text-align: right;\">\n",
       "      <th></th>\n",
       "      <th>SPEED</th>\n",
       "      <th>WHEELBASE</th>\n",
       "      <th>HEADWAY</th>\n",
       "      <th>GAP</th>\n",
       "      <th>RHO</th>\n",
       "    </tr>\n",
       "  </thead>\n",
       "  <tbody>\n",
       "    <tr>\n",
       "      <th>count</th>\n",
       "      <td>9.989156e+06</td>\n",
       "      <td>9.989156e+06</td>\n",
       "      <td>9.989156e+06</td>\n",
       "      <td>9.989156e+06</td>\n",
       "      <td>9.989156e+06</td>\n",
       "    </tr>\n",
       "    <tr>\n",
       "      <th>mean</th>\n",
       "      <td>2.183996e+01</td>\n",
       "      <td>1.030735e+00</td>\n",
       "      <td>1.890292e+02</td>\n",
       "      <td>1.905951e+02</td>\n",
       "      <td>9.768114e-01</td>\n",
       "    </tr>\n",
       "    <tr>\n",
       "      <th>std</th>\n",
       "      <td>6.683758e+00</td>\n",
       "      <td>9.946097e-02</td>\n",
       "      <td>1.348285e+03</td>\n",
       "      <td>1.553156e+03</td>\n",
       "      <td>1.055660e-01</td>\n",
       "    </tr>\n",
       "    <tr>\n",
       "      <th>min</th>\n",
       "      <td>3.000000e-01</td>\n",
       "      <td>0.000000e+00</td>\n",
       "      <td>0.000000e+00</td>\n",
       "      <td>0.000000e+00</td>\n",
       "      <td>0.000000e+00</td>\n",
       "    </tr>\n",
       "    <tr>\n",
       "      <th>25%</th>\n",
       "      <td>1.740000e+01</td>\n",
       "      <td>1.000000e+00</td>\n",
       "      <td>3.300000e+00</td>\n",
       "      <td>3.100000e+00</td>\n",
       "      <td>1.000000e+00</td>\n",
       "    </tr>\n",
       "    <tr>\n",
       "      <th>50%</th>\n",
       "      <td>2.190000e+01</td>\n",
       "      <td>1.000000e+00</td>\n",
       "      <td>2.670000e+01</td>\n",
       "      <td>2.650000e+01</td>\n",
       "      <td>1.000000e+00</td>\n",
       "    </tr>\n",
       "    <tr>\n",
       "      <th>75%</th>\n",
       "      <td>2.640000e+01</td>\n",
       "      <td>1.100000e+00</td>\n",
       "      <td>1.132000e+02</td>\n",
       "      <td>1.130000e+02</td>\n",
       "      <td>1.000000e+00</td>\n",
       "    </tr>\n",
       "    <tr>\n",
       "      <th>max</th>\n",
       "      <td>1.596000e+02</td>\n",
       "      <td>7.600000e+00</td>\n",
       "      <td>8.640000e+04</td>\n",
       "      <td>5.692331e+05</td>\n",
       "      <td>1.500000e+00</td>\n",
       "    </tr>\n",
       "  </tbody>\n",
       "</table>\n",
       "</div>"
      ],
      "text/plain": [
       "              SPEED     WHEELBASE       HEADWAY           GAP           RHO\n",
       "count  9.989156e+06  9.989156e+06  9.989156e+06  9.989156e+06  9.989156e+06\n",
       "mean   2.183996e+01  1.030735e+00  1.890292e+02  1.905951e+02  9.768114e-01\n",
       "std    6.683758e+00  9.946097e-02  1.348285e+03  1.553156e+03  1.055660e-01\n",
       "min    3.000000e-01  0.000000e+00  0.000000e+00  0.000000e+00  0.000000e+00\n",
       "25%    1.740000e+01  1.000000e+00  3.300000e+00  3.100000e+00  1.000000e+00\n",
       "50%    2.190000e+01  1.000000e+00  2.670000e+01  2.650000e+01  1.000000e+00\n",
       "75%    2.640000e+01  1.100000e+00  1.132000e+02  1.130000e+02  1.000000e+00\n",
       "max    1.596000e+02  7.600000e+00  8.640000e+04  5.692331e+05  1.500000e+00"
      ]
     },
     "execution_count": 23,
     "metadata": {},
     "output_type": "execute_result"
    }
   ],
   "source": [
    "#Summary statistics\n",
    "\n",
    "dfs.describe()"
   ]
  }
 ],
 "metadata": {
  "kernelspec": {
   "display_name": "Python 3 (ipykernel)",
   "language": "python",
   "name": "python3"
  },
  "language_info": {
   "codemirror_mode": {
    "name": "ipython",
    "version": 3
   },
   "file_extension": ".py",
   "mimetype": "text/x-python",
   "name": "python",
   "nbconvert_exporter": "python",
   "pygments_lexer": "ipython3",
   "version": "3.8.12"
  }
 },
 "nbformat": 4,
 "nbformat_minor": 5
}
