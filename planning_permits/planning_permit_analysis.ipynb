{
 "cells": [
  {
   "cell_type": "markdown",
   "id": "3fb93586",
   "metadata": {},
   "source": [
    "# Planning Permits Analysis\n",
    "\n",
    "This analysis uses data from https://discover.data.vic.gov.au/dataset?q=planning%20permits.\n",
    "\n",
    "\n",
    "'The Victorian Building Authority (VBA) collects information from building surveyors on the number, value and type of building permits issued each month as part of its functions under the Building Act 1993'\n",
    " \n",
    "Firstly there is also a building permit activity monthly summary dataset which has been updated to April 2021 (https://discover.data.vic.gov.au/dataset/building-permit-activity-monthly-summaries). This is an aggregated dataset which includes data visualisations which track building use, costs, \n",
    "\n",
    "\n",
    "The summary dataset aggregates data from separate annual datesets which run from to 2020 (https://discover.data.vic.gov.au/dataset/building-permit-activity-data-2020). ** up to 2021 on building vic autority (VBA) site ** Within these datasets, each record or row represents a single permit.\n",
    "\n",
    "These annual datasets include over 40 pieces of information per record, such as details of what is to be built (or demolished),the intended use of the building, the ownership sector, and the building costs. \n",
    "\n",
    "In addition, the location of the building can be viewed down to the street name level, with postal codes, suburbs and regions also included.\n",
    "\n",
    "A comprehensive data dictionary for the building permit datsets can be found on the VBA site here (https://www.vba.vic.gov.au/about/data), as well as a detailed data quality statement PDF which includes clear summaries about what the data represents."
   ]
  },
  {
   "cell_type": "code",
   "execution_count": 1,
   "id": "19a1a865",
   "metadata": {},
   "outputs": [],
   "source": [
    "import numpy as np\n",
    "import pandas as pd"
   ]
  },
  {
   "cell_type": "code",
   "execution_count": null,
   "id": "09f0d4f3",
   "metadata": {
    "scrolled": true
   },
   "outputs": [],
   "source": [
    "# VBA DataVic data, hosted on VBA website\n",
    "dataset_urls = {\n",
    "    '2021':'https://www.vba.vic.gov.au/__data/assets/excel_doc/0004/143572/VBA-DataVic-Building-Permits-2021.xlsx',\n",
    "    '2020':'https://www.vba.vic.gov.au/__data/assets/file/0012/110028/VBA-DataVic-Building-Permits-2020.xlsb'\n",
    "}\n",
    "\n",
    "dfs = {}\n",
    "\n",
    "for dataset in dataset_urls:\n",
    "    dfs[dataset] = pd.read_excel(dataset_urls[dataset],sheet_name=1) \n"
   ]
  },
  {
   "cell_type": "code",
   "execution_count": 3,
   "id": "a4d50122",
   "metadata": {},
   "outputs": [],
   "source": []
  }
 ],
 "metadata": {
  "kernelspec": {
   "display_name": "Python 3 (ipykernel)",
   "language": "python",
   "name": "python3"
  },
  "language_info": {
   "codemirror_mode": {
    "name": "ipython",
    "version": 3
   },
   "file_extension": ".py",
   "mimetype": "text/x-python",
   "name": "python",
   "nbconvert_exporter": "python",
   "pygments_lexer": "ipython3",
   "version": "3.8.12"
  }
 },
 "nbformat": 4,
 "nbformat_minor": 5
}
