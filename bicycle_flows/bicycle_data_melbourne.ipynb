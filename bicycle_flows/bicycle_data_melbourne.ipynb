{
 "cells": [
  {
   "cell_type": "markdown",
   "id": "1df4fbd5",
   "metadata": {},
   "source": [
    "# Bicycle data melbourne analysis"
   ]
  },
  {
   "cell_type": "code",
   "execution_count": 1,
   "id": "29df2268",
   "metadata": {},
   "outputs": [],
   "source": [
    "import pandas as pd\n",
    "import numpy as np\n",
    "import os\n",
    "from collections import Counter\n",
    "from tqdm.notebook import tqdm\n",
    "import plotly.express as px\n",
    "import geopandas as gpd\n"
   ]
  },
  {
   "cell_type": "code",
   "execution_count": 3,
   "id": "ca421574",
   "metadata": {},
   "outputs": [
    {
     "name": "stdout",
     "output_type": "stream",
     "text": [
      "<class 'pandas.core.frame.DataFrame'>\n",
      "RangeIndex: 93 entries, 0 to 92\n",
      "Data columns (total 11 columns):\n",
      " #   Column        Non-Null Count  Dtype  \n",
      "---  ------        --------------  -----  \n",
      " 0   SITE_ID       93 non-null     int64  \n",
      " 1   TFM_ID        93 non-null     int64  \n",
      " 2   STRT_LAT      93 non-null     float64\n",
      " 3   STRT_LONG     93 non-null     float64\n",
      " 4   GPS           92 non-null     object \n",
      " 5   SITE_NAME     91 non-null     object \n",
      " 6   TFM_DESC      93 non-null     object \n",
      " 7   BEARING_DESC  93 non-null     object \n",
      " 8   DATA_SRC_CD   93 non-null     object \n",
      " 9   RGN_SHORT_NM  93 non-null     object \n",
      " 10  Comments      75 non-null     object \n",
      "dtypes: float64(2), int64(2), object(7)\n",
      "memory usage: 8.1+ KB\n"
     ]
    }
   ],
   "source": [
    "rootdir = f'../../data/DPC/bicycle_flows/'\n",
    "\n",
    "# Open Site Number Listing file\n",
    "sites = pd.read_excel(f'{rootdir}/VicRoads_Bike_Site_Number_Listing.xlsx')\n",
    "sites.info()"
   ]
  },
  {
   "cell_type": "code",
   "execution_count": 9,
   "id": "a4160236",
   "metadata": {},
   "outputs": [
    {
     "data": {
      "text/html": [
       "<div>\n",
       "<style scoped>\n",
       "    .dataframe tbody tr th:only-of-type {\n",
       "        vertical-align: middle;\n",
       "    }\n",
       "\n",
       "    .dataframe tbody tr th {\n",
       "        vertical-align: top;\n",
       "    }\n",
       "\n",
       "    .dataframe thead th {\n",
       "        text-align: right;\n",
       "    }\n",
       "</style>\n",
       "<table border=\"1\" class=\"dataframe\">\n",
       "  <thead>\n",
       "    <tr style=\"text-align: right;\">\n",
       "      <th></th>\n",
       "      <th>SITE_ID</th>\n",
       "      <th>TFM_ID</th>\n",
       "      <th>STRT_LAT</th>\n",
       "      <th>STRT_LONG</th>\n",
       "    </tr>\n",
       "  </thead>\n",
       "  <tbody>\n",
       "    <tr>\n",
       "      <th>count</th>\n",
       "      <td>93.000000</td>\n",
       "      <td>93.000000</td>\n",
       "      <td>93.000000</td>\n",
       "      <td>93.000000</td>\n",
       "    </tr>\n",
       "    <tr>\n",
       "      <th>mean</th>\n",
       "      <td>18008.935484</td>\n",
       "      <td>57763.236559</td>\n",
       "      <td>-37.832249</td>\n",
       "      <td>144.998457</td>\n",
       "    </tr>\n",
       "    <tr>\n",
       "      <th>std</th>\n",
       "      <td>12974.657259</td>\n",
       "      <td>10612.712297</td>\n",
       "      <td>0.112396</td>\n",
       "      <td>0.082142</td>\n",
       "    </tr>\n",
       "    <tr>\n",
       "      <th>min</th>\n",
       "      <td>6411.000000</td>\n",
       "      <td>20082.000000</td>\n",
       "      <td>-38.507720</td>\n",
       "      <td>144.736270</td>\n",
       "    </tr>\n",
       "    <tr>\n",
       "      <th>25%</th>\n",
       "      <td>7596.000000</td>\n",
       "      <td>59454.000000</td>\n",
       "      <td>-37.832280</td>\n",
       "      <td>144.973640</td>\n",
       "    </tr>\n",
       "    <tr>\n",
       "      <th>50%</th>\n",
       "      <td>9999.000000</td>\n",
       "      <td>59477.000000</td>\n",
       "      <td>-37.806770</td>\n",
       "      <td>144.987550</td>\n",
       "    </tr>\n",
       "    <tr>\n",
       "      <th>75%</th>\n",
       "      <td>32615.000000</td>\n",
       "      <td>61176.000000</td>\n",
       "      <td>-37.783990</td>\n",
       "      <td>145.028100</td>\n",
       "    </tr>\n",
       "    <tr>\n",
       "      <th>max</th>\n",
       "      <td>40005.000000</td>\n",
       "      <td>70011.000000</td>\n",
       "      <td>-37.743220</td>\n",
       "      <td>145.291100</td>\n",
       "    </tr>\n",
       "  </tbody>\n",
       "</table>\n",
       "</div>"
      ],
      "text/plain": [
       "            SITE_ID        TFM_ID   STRT_LAT   STRT_LONG\n",
       "count     93.000000     93.000000  93.000000   93.000000\n",
       "mean   18008.935484  57763.236559 -37.832249  144.998457\n",
       "std    12974.657259  10612.712297   0.112396    0.082142\n",
       "min     6411.000000  20082.000000 -38.507720  144.736270\n",
       "25%     7596.000000  59454.000000 -37.832280  144.973640\n",
       "50%     9999.000000  59477.000000 -37.806770  144.987550\n",
       "75%    32615.000000  61176.000000 -37.783990  145.028100\n",
       "max    40005.000000  70011.000000 -37.743220  145.291100"
      ]
     },
     "execution_count": 9,
     "metadata": {},
     "output_type": "execute_result"
    }
   ],
   "source": [
    "sites.describe()"
   ]
  },
  {
   "cell_type": "code",
   "execution_count": 10,
   "id": "9260159a",
   "metadata": {},
   "outputs": [
    {
     "data": {
      "application/vnd.plotly.v1+json": {
       "config": {
        "plotlyServerURL": "https://plot.ly"
       },
       "data": [
        {
         "customdata": [
          [
           6411,
           "NORTH BOUND"
          ],
          [
           6411,
           "SOUTH BOUND"
          ],
          [
           6415,
           "EAST BOUND"
          ],
          [
           6415,
           "WEST BOUND"
          ],
          [
           6419,
           "NORTH BOUND"
          ],
          [
           6419,
           "SOUTH BOUND"
          ],
          [
           6423,
           "NORTH WEST BOUND"
          ],
          [
           6423,
           "SOUTH EAST BOUND"
          ],
          [
           6592,
           "NORTH WEST BOUND"
          ],
          [
           6592,
           "SOUTH EAST BOUND"
          ],
          [
           6596,
           "NORTH BOUND"
          ],
          [
           6596,
           "SOUTH BOUND"
          ],
          [
           6600,
           "EAST BOUND"
          ],
          [
           6600,
           "WEST BOUND"
          ],
          [
           7584,
           "NORTH WEST BOUND"
          ],
          [
           7584,
           "SOUTH EAST BOUND"
          ],
          [
           7588,
           "EAST BOUND"
          ],
          [
           7588,
           "WEST BOUND"
          ],
          [
           7592,
           "NORTH WEST BOUND"
          ],
          [
           7592,
           "SOUTH EAST BOUND"
          ],
          [
           7596,
           "NORTH EAST BOUND"
          ],
          [
           7596,
           "SOUTH WEST BOUND"
          ],
          [
           7600,
           "NORTH BOUND"
          ],
          [
           7600,
           "SOUTH BOUND"
          ],
          [
           7604,
           "NORTH WEST BOUND"
          ],
          [
           7604,
           "SOUTH EAST BOUND"
          ],
          [
           8172,
           "NORTH WEST BOUND"
          ],
          [
           8172,
           "SOUTH EAST BOUND"
          ],
          [
           8176,
           "EAST BOUND"
          ],
          [
           8176,
           "WEST BOUND"
          ],
          [
           8180,
           "NORTH BOUND"
          ],
          [
           8180,
           "SOUTH BOUND"
          ],
          [
           8184,
           "NORTH WEST BOUND"
          ],
          [
           8184,
           "SOUTH EAST BOUND"
          ],
          [
           8188,
           "NORTH BOUND"
          ],
          [
           8188,
           "SOUTH BOUND"
          ],
          [
           8192,
           "NORTH BOUND"
          ],
          [
           8192,
           "SOUTH BOUND"
          ],
          [
           8196,
           "NORTH WEST BOUND"
          ],
          [
           8196,
           "SOUTH EAST BOUND"
          ],
          [
           9077,
           "EAST BOUND"
          ],
          [
           9077,
           "WEST BOUND"
          ],
          [
           9079,
           "EAST BOUND"
          ],
          [
           9079,
           "WEST BOUND"
          ],
          [
           9999,
           "NORTH BOUND"
          ],
          [
           9999,
           "SOUTH BOUND"
          ],
          [
           10223,
           "NORTH WEST BOUND"
          ],
          [
           10223,
           "SOUTH EAST BOUND"
          ],
          [
           10225,
           "NORTH WEST BOUND"
          ],
          [
           10225,
           "SOUTH EAST BOUND"
          ],
          [
           10484,
           "NORTH EAST BOUND"
          ],
          [
           10484,
           "SOUTH WEST BOUND"
          ],
          [
           10486,
           "NORTH BOUND"
          ],
          [
           10486,
           "SOUTH BOUND"
          ],
          [
           10488,
           "NORTH BOUND"
          ],
          [
           10488,
           "SOUTH BOUND"
          ],
          [
           31602,
           "NORTH BOUND"
          ],
          [
           31602,
           "SOUTH BOUND"
          ],
          [
           31747,
           "NORTH EAST BOUND"
          ],
          [
           31747,
           "SOUTH WEST BOUND"
          ],
          [
           32493,
           "NORTH BOUND"
          ],
          [
           32493,
           "SOUTH BOUND"
          ],
          [
           33179,
           "NORTH BOUND"
          ],
          [
           33179,
           "SOUTH BOUND"
          ],
          [
           34215,
           "NORTH EAST BOUND"
          ],
          [
           34215,
           "SOUTH WEST BOUND"
          ],
          [
           34216,
           "NORTH BOUND"
          ],
          [
           34216,
           "SOUTH BOUND"
          ],
          [
           34217,
           "EAST BOUND"
          ],
          [
           34217,
           "WEST BOUND"
          ],
          [
           34271,
           "SOUTH WEST BOUND"
          ],
          [
           34314,
           "NORTH BOUND"
          ],
          [
           34314,
           "SOUTH BOUND"
          ],
          [
           34315,
           "NORTH BOUND"
          ],
          [
           34315,
           "SOUTH BOUND"
          ],
          [
           34556,
           "NORTH EAST BOUND"
          ],
          [
           34556,
           "SOUTH WEST BOUND"
          ],
          [
           40003,
           "NORTH BOUND"
          ],
          [
           40003,
           "SOUTH BOUND"
          ],
          [
           40004,
           "EAST BOUND"
          ],
          [
           40004,
           "WEST BOUND"
          ],
          [
           40005,
           "EAST BOUND"
          ],
          [
           40005,
           "WEST BOUND"
          ],
          [
           6588,
           "NORTH BOUND"
          ],
          [
           6588,
           "SOUTH BOUND"
          ],
          [
           32612,
           "NORTH BOUND"
          ],
          [
           32612,
           "SOUTH BOUND"
          ],
          [
           32614,
           "NORTH BOUND"
          ],
          [
           32614,
           "SOUTH BOUND"
          ],
          [
           32615,
           "NORTH BOUND"
          ],
          [
           32615,
           "SOUTH BOUND"
          ],
          [
           32616,
           "NORTH EAST BOUND"
          ],
          [
           32616,
           "SOUTH WEST BOUND"
          ]
         ],
         "hovertemplate": "<b>%{hovertext}</b><br><br>STRT_LAT=%{lat}<br>STRT_LONG=%{lon}<br>SITE_ID=%{customdata[0]}<br>BEARING_DESC=%{customdata[1]}<extra></extra>",
         "hovertext": [
          "D208X6411",
          "D208X6411",
          "D208X6415",
          "D208X6415",
          "D208X6419",
          "D208X6419",
          "D208X6423",
          "D208X6423",
          "D208X6592",
          "D208X6592",
          "D208X6596",
          "D208X6596",
          "D208X6600",
          "D208X6600",
          "D208X7584",
          "D208X7584",
          "D208X7588",
          "D208X7588",
          "D208X7592",
          "D208X7592",
          "D208X7596",
          "D208X7596",
          "D208X7600",
          "D208X7600",
          "D208X7604",
          "D208X7604",
          "D208X8172",
          "D208X8172",
          "D208X8176",
          "D208X8176",
          "D208X8180",
          "D208X8180",
          "D208X8184",
          "D208X8184",
          "D208X8188",
          "D208X8188",
          "D208X8192",
          "D208X8192",
          "D208X8196",
          "D208X8196",
          "D208X9077",
          "D208X9077",
          "D208X9079",
          "D208X9079",
          "D208X9999",
          "D208X9999",
          "D208X10223",
          "D208X10223",
          "D208X10225",
          "D208X10225",
          "D208X10484",
          "D208X10484",
          "D208X10486",
          "D208X10486",
          "D208X10488",
          "D208X10488",
          "D208X31602",
          "D208X31602",
          "D208X31747",
          "D208X31747",
          "D208X32493",
          "D208X32493",
          "D208X33179",
          "D208X33179",
          " D208X34215",
          " D208X34215",
          " D208X34216",
          " D208X34216",
          " D208X34217",
          " D208X34217",
          "D208X34271",
          "D208X34314",
          "D208X34314",
          "D208X34315",
          "D208X34315",
          "D208X34556",
          "D208X34556",
          "D208X40003",
          "D208X40003",
          "D208X40004",
          "D208X40004",
          "D208X40005",
          "D208X40005",
          null,
          null,
          "D208X32612",
          "D208X32612",
          "D208X32614",
          "D208X32614",
          " D208X32615",
          " D208X32615",
          "D208X32616",
          "D208X32616"
         ],
         "lat": [
          -37.77231,
          -37.77235,
          -37.82713,
          -37.82714,
          -37.75829,
          -37.75835,
          -37.82026,
          -37.82032,
          -37.81035,
          -37.81036,
          -37.87102,
          -37.87105,
          -37.89091,
          -37.89091,
          -37.79171,
          -37.79172,
          -37.77996,
          -37.77996,
          -37.79391,
          -37.79389,
          -37.80676,
          -37.80677,
          -37.79975,
          -37.79981,
          -37.78822,
          -37.78828,
          -37.827,
          -37.827,
          -37.8302,
          -37.8346,
          -37.778,
          -37.77801,
          -37.83429,
          -37.83429,
          -37.74322,
          -37.74325,
          -37.86261,
          -37.86268,
          -38.50771,
          -38.50772,
          -37.8093912,
          -37.8093912,
          -37.77893,
          -37.77893,
          -37.8322796,
          -37.8249565,
          -37.81153,
          -37.81146,
          -37.7936124,
          -37.7894039,
          -37.83099,
          -37.83102,
          -37.7925397,
          -37.7925397,
          -37.8721308,
          -37.8679721,
          -37.79574,
          -37.79574,
          -37.81843,
          -37.81843,
          -37.80724,
          -37.80709,
          -37.80865,
          -37.80863,
          -37.78006,
          -37.78006,
          -37.76725,
          -37.76725,
          -37.76591,
          -37.76591,
          -37.80635,
          -37.79191,
          -37.79191,
          -37.7788,
          -37.7788,
          -37.86031,
          -37.86031,
          -37.78605,
          -37.78679,
          -37.7838,
          -37.78399,
          -37.78342,
          -37.78357,
          -37.79335,
          -37.79333,
          -37.94766,
          -37.94766,
          -37.91666,
          -37.91666,
          -37.9061,
          -37.9061,
          -37.99504,
          -37.99504
         ],
         "legendgroup": "",
         "lon": [
          144.99042,
          144.99077,
          144.98511,
          144.98513,
          144.98039,
          144.98044,
          144.84103,
          144.84111,
          144.93758,
          144.93762,
          144.97595,
          144.97595,
          145.123,
          145.12301,
          145.10505,
          145.10507,
          144.96262,
          144.96258,
          145.03325,
          145.03323,
          144.90464,
          144.90463,
          144.98051,
          144.9805,
          145.0281,
          145.02814,
          144.984,
          144.984,
          144.98781,
          144.99656,
          144.95816,
          144.95816,
          145.02441,
          145.02442,
          144.99804,
          144.99803,
          145.06196,
          145.06198,
          145.29107,
          145.2911,
          144.9743112,
          144.9743112,
          145.03674,
          145.03674,
          144.9718019,
          144.9708814,
          145.06365,
          145.06363,
          144.9474502,
          144.942169,
          144.94669,
          144.94666,
          144.9584352,
          144.9584352,
          144.9896562,
          144.9872744,
          145.04166,
          145.04166,
          145.22385,
          145.22386,
          144.98597,
          144.98599,
          144.93588,
          144.93589,
          144.99948,
          144.99948,
          144.98755,
          144.98755,
          145.0055,
          145.0055,
          144.90497,
          144.9739,
          144.9739,
          145.03497,
          145.03497,
          144.73627,
          144.73627,
          144.99927,
          144.99971,
          145.00727,
          145.00768,
          145.01666,
          145.01688,
          144.97364,
          144.97365,
          145.00051,
          145.00051,
          144.98709,
          144.98709,
          144.98494,
          144.98494,
          145.03862,
          145.03862
         ],
         "marker": {
          "color": "fuchsia"
         },
         "mode": "markers",
         "name": "",
         "showlegend": false,
         "subplot": "mapbox",
         "type": "scattermapbox"
        }
       ],
       "layout": {
        "height": 300,
        "legend": {
         "tracegroupgap": 0
        },
        "mapbox": {
         "center": {
          "lat": -37.832248893548375,
          "lon": 144.99845716021505
         },
         "domain": {
          "x": [
           0,
           1
          ],
          "y": [
           0,
           1
          ]
         },
         "style": "open-street-map",
         "zoom": 9
        },
        "margin": {
         "b": 0,
         "l": 0,
         "r": 0,
         "t": 0
        },
        "template": {
         "data": {
          "bar": [
           {
            "error_x": {
             "color": "#2a3f5f"
            },
            "error_y": {
             "color": "#2a3f5f"
            },
            "marker": {
             "line": {
              "color": "#E5ECF6",
              "width": 0.5
             },
             "pattern": {
              "fillmode": "overlay",
              "size": 10,
              "solidity": 0.2
             }
            },
            "type": "bar"
           }
          ],
          "barpolar": [
           {
            "marker": {
             "line": {
              "color": "#E5ECF6",
              "width": 0.5
             },
             "pattern": {
              "fillmode": "overlay",
              "size": 10,
              "solidity": 0.2
             }
            },
            "type": "barpolar"
           }
          ],
          "carpet": [
           {
            "aaxis": {
             "endlinecolor": "#2a3f5f",
             "gridcolor": "white",
             "linecolor": "white",
             "minorgridcolor": "white",
             "startlinecolor": "#2a3f5f"
            },
            "baxis": {
             "endlinecolor": "#2a3f5f",
             "gridcolor": "white",
             "linecolor": "white",
             "minorgridcolor": "white",
             "startlinecolor": "#2a3f5f"
            },
            "type": "carpet"
           }
          ],
          "choropleth": [
           {
            "colorbar": {
             "outlinewidth": 0,
             "ticks": ""
            },
            "type": "choropleth"
           }
          ],
          "contour": [
           {
            "colorbar": {
             "outlinewidth": 0,
             "ticks": ""
            },
            "colorscale": [
             [
              0,
              "#0d0887"
             ],
             [
              0.1111111111111111,
              "#46039f"
             ],
             [
              0.2222222222222222,
              "#7201a8"
             ],
             [
              0.3333333333333333,
              "#9c179e"
             ],
             [
              0.4444444444444444,
              "#bd3786"
             ],
             [
              0.5555555555555556,
              "#d8576b"
             ],
             [
              0.6666666666666666,
              "#ed7953"
             ],
             [
              0.7777777777777778,
              "#fb9f3a"
             ],
             [
              0.8888888888888888,
              "#fdca26"
             ],
             [
              1,
              "#f0f921"
             ]
            ],
            "type": "contour"
           }
          ],
          "contourcarpet": [
           {
            "colorbar": {
             "outlinewidth": 0,
             "ticks": ""
            },
            "type": "contourcarpet"
           }
          ],
          "heatmap": [
           {
            "colorbar": {
             "outlinewidth": 0,
             "ticks": ""
            },
            "colorscale": [
             [
              0,
              "#0d0887"
             ],
             [
              0.1111111111111111,
              "#46039f"
             ],
             [
              0.2222222222222222,
              "#7201a8"
             ],
             [
              0.3333333333333333,
              "#9c179e"
             ],
             [
              0.4444444444444444,
              "#bd3786"
             ],
             [
              0.5555555555555556,
              "#d8576b"
             ],
             [
              0.6666666666666666,
              "#ed7953"
             ],
             [
              0.7777777777777778,
              "#fb9f3a"
             ],
             [
              0.8888888888888888,
              "#fdca26"
             ],
             [
              1,
              "#f0f921"
             ]
            ],
            "type": "heatmap"
           }
          ],
          "heatmapgl": [
           {
            "colorbar": {
             "outlinewidth": 0,
             "ticks": ""
            },
            "colorscale": [
             [
              0,
              "#0d0887"
             ],
             [
              0.1111111111111111,
              "#46039f"
             ],
             [
              0.2222222222222222,
              "#7201a8"
             ],
             [
              0.3333333333333333,
              "#9c179e"
             ],
             [
              0.4444444444444444,
              "#bd3786"
             ],
             [
              0.5555555555555556,
              "#d8576b"
             ],
             [
              0.6666666666666666,
              "#ed7953"
             ],
             [
              0.7777777777777778,
              "#fb9f3a"
             ],
             [
              0.8888888888888888,
              "#fdca26"
             ],
             [
              1,
              "#f0f921"
             ]
            ],
            "type": "heatmapgl"
           }
          ],
          "histogram": [
           {
            "marker": {
             "pattern": {
              "fillmode": "overlay",
              "size": 10,
              "solidity": 0.2
             }
            },
            "type": "histogram"
           }
          ],
          "histogram2d": [
           {
            "colorbar": {
             "outlinewidth": 0,
             "ticks": ""
            },
            "colorscale": [
             [
              0,
              "#0d0887"
             ],
             [
              0.1111111111111111,
              "#46039f"
             ],
             [
              0.2222222222222222,
              "#7201a8"
             ],
             [
              0.3333333333333333,
              "#9c179e"
             ],
             [
              0.4444444444444444,
              "#bd3786"
             ],
             [
              0.5555555555555556,
              "#d8576b"
             ],
             [
              0.6666666666666666,
              "#ed7953"
             ],
             [
              0.7777777777777778,
              "#fb9f3a"
             ],
             [
              0.8888888888888888,
              "#fdca26"
             ],
             [
              1,
              "#f0f921"
             ]
            ],
            "type": "histogram2d"
           }
          ],
          "histogram2dcontour": [
           {
            "colorbar": {
             "outlinewidth": 0,
             "ticks": ""
            },
            "colorscale": [
             [
              0,
              "#0d0887"
             ],
             [
              0.1111111111111111,
              "#46039f"
             ],
             [
              0.2222222222222222,
              "#7201a8"
             ],
             [
              0.3333333333333333,
              "#9c179e"
             ],
             [
              0.4444444444444444,
              "#bd3786"
             ],
             [
              0.5555555555555556,
              "#d8576b"
             ],
             [
              0.6666666666666666,
              "#ed7953"
             ],
             [
              0.7777777777777778,
              "#fb9f3a"
             ],
             [
              0.8888888888888888,
              "#fdca26"
             ],
             [
              1,
              "#f0f921"
             ]
            ],
            "type": "histogram2dcontour"
           }
          ],
          "mesh3d": [
           {
            "colorbar": {
             "outlinewidth": 0,
             "ticks": ""
            },
            "type": "mesh3d"
           }
          ],
          "parcoords": [
           {
            "line": {
             "colorbar": {
              "outlinewidth": 0,
              "ticks": ""
             }
            },
            "type": "parcoords"
           }
          ],
          "pie": [
           {
            "automargin": true,
            "type": "pie"
           }
          ],
          "scatter": [
           {
            "marker": {
             "colorbar": {
              "outlinewidth": 0,
              "ticks": ""
             }
            },
            "type": "scatter"
           }
          ],
          "scatter3d": [
           {
            "line": {
             "colorbar": {
              "outlinewidth": 0,
              "ticks": ""
             }
            },
            "marker": {
             "colorbar": {
              "outlinewidth": 0,
              "ticks": ""
             }
            },
            "type": "scatter3d"
           }
          ],
          "scattercarpet": [
           {
            "marker": {
             "colorbar": {
              "outlinewidth": 0,
              "ticks": ""
             }
            },
            "type": "scattercarpet"
           }
          ],
          "scattergeo": [
           {
            "marker": {
             "colorbar": {
              "outlinewidth": 0,
              "ticks": ""
             }
            },
            "type": "scattergeo"
           }
          ],
          "scattergl": [
           {
            "marker": {
             "colorbar": {
              "outlinewidth": 0,
              "ticks": ""
             }
            },
            "type": "scattergl"
           }
          ],
          "scattermapbox": [
           {
            "marker": {
             "colorbar": {
              "outlinewidth": 0,
              "ticks": ""
             }
            },
            "type": "scattermapbox"
           }
          ],
          "scatterpolar": [
           {
            "marker": {
             "colorbar": {
              "outlinewidth": 0,
              "ticks": ""
             }
            },
            "type": "scatterpolar"
           }
          ],
          "scatterpolargl": [
           {
            "marker": {
             "colorbar": {
              "outlinewidth": 0,
              "ticks": ""
             }
            },
            "type": "scatterpolargl"
           }
          ],
          "scatterternary": [
           {
            "marker": {
             "colorbar": {
              "outlinewidth": 0,
              "ticks": ""
             }
            },
            "type": "scatterternary"
           }
          ],
          "surface": [
           {
            "colorbar": {
             "outlinewidth": 0,
             "ticks": ""
            },
            "colorscale": [
             [
              0,
              "#0d0887"
             ],
             [
              0.1111111111111111,
              "#46039f"
             ],
             [
              0.2222222222222222,
              "#7201a8"
             ],
             [
              0.3333333333333333,
              "#9c179e"
             ],
             [
              0.4444444444444444,
              "#bd3786"
             ],
             [
              0.5555555555555556,
              "#d8576b"
             ],
             [
              0.6666666666666666,
              "#ed7953"
             ],
             [
              0.7777777777777778,
              "#fb9f3a"
             ],
             [
              0.8888888888888888,
              "#fdca26"
             ],
             [
              1,
              "#f0f921"
             ]
            ],
            "type": "surface"
           }
          ],
          "table": [
           {
            "cells": {
             "fill": {
              "color": "#EBF0F8"
             },
             "line": {
              "color": "white"
             }
            },
            "header": {
             "fill": {
              "color": "#C8D4E3"
             },
             "line": {
              "color": "white"
             }
            },
            "type": "table"
           }
          ]
         },
         "layout": {
          "annotationdefaults": {
           "arrowcolor": "#2a3f5f",
           "arrowhead": 0,
           "arrowwidth": 1
          },
          "autotypenumbers": "strict",
          "coloraxis": {
           "colorbar": {
            "outlinewidth": 0,
            "ticks": ""
           }
          },
          "colorscale": {
           "diverging": [
            [
             0,
             "#8e0152"
            ],
            [
             0.1,
             "#c51b7d"
            ],
            [
             0.2,
             "#de77ae"
            ],
            [
             0.3,
             "#f1b6da"
            ],
            [
             0.4,
             "#fde0ef"
            ],
            [
             0.5,
             "#f7f7f7"
            ],
            [
             0.6,
             "#e6f5d0"
            ],
            [
             0.7,
             "#b8e186"
            ],
            [
             0.8,
             "#7fbc41"
            ],
            [
             0.9,
             "#4d9221"
            ],
            [
             1,
             "#276419"
            ]
           ],
           "sequential": [
            [
             0,
             "#0d0887"
            ],
            [
             0.1111111111111111,
             "#46039f"
            ],
            [
             0.2222222222222222,
             "#7201a8"
            ],
            [
             0.3333333333333333,
             "#9c179e"
            ],
            [
             0.4444444444444444,
             "#bd3786"
            ],
            [
             0.5555555555555556,
             "#d8576b"
            ],
            [
             0.6666666666666666,
             "#ed7953"
            ],
            [
             0.7777777777777778,
             "#fb9f3a"
            ],
            [
             0.8888888888888888,
             "#fdca26"
            ],
            [
             1,
             "#f0f921"
            ]
           ],
           "sequentialminus": [
            [
             0,
             "#0d0887"
            ],
            [
             0.1111111111111111,
             "#46039f"
            ],
            [
             0.2222222222222222,
             "#7201a8"
            ],
            [
             0.3333333333333333,
             "#9c179e"
            ],
            [
             0.4444444444444444,
             "#bd3786"
            ],
            [
             0.5555555555555556,
             "#d8576b"
            ],
            [
             0.6666666666666666,
             "#ed7953"
            ],
            [
             0.7777777777777778,
             "#fb9f3a"
            ],
            [
             0.8888888888888888,
             "#fdca26"
            ],
            [
             1,
             "#f0f921"
            ]
           ]
          },
          "colorway": [
           "#636efa",
           "#EF553B",
           "#00cc96",
           "#ab63fa",
           "#FFA15A",
           "#19d3f3",
           "#FF6692",
           "#B6E880",
           "#FF97FF",
           "#FECB52"
          ],
          "font": {
           "color": "#2a3f5f"
          },
          "geo": {
           "bgcolor": "white",
           "lakecolor": "white",
           "landcolor": "#E5ECF6",
           "showlakes": true,
           "showland": true,
           "subunitcolor": "white"
          },
          "hoverlabel": {
           "align": "left"
          },
          "hovermode": "closest",
          "mapbox": {
           "style": "light"
          },
          "paper_bgcolor": "white",
          "plot_bgcolor": "#E5ECF6",
          "polar": {
           "angularaxis": {
            "gridcolor": "white",
            "linecolor": "white",
            "ticks": ""
           },
           "bgcolor": "#E5ECF6",
           "radialaxis": {
            "gridcolor": "white",
            "linecolor": "white",
            "ticks": ""
           }
          },
          "scene": {
           "xaxis": {
            "backgroundcolor": "#E5ECF6",
            "gridcolor": "white",
            "gridwidth": 2,
            "linecolor": "white",
            "showbackground": true,
            "ticks": "",
            "zerolinecolor": "white"
           },
           "yaxis": {
            "backgroundcolor": "#E5ECF6",
            "gridcolor": "white",
            "gridwidth": 2,
            "linecolor": "white",
            "showbackground": true,
            "ticks": "",
            "zerolinecolor": "white"
           },
           "zaxis": {
            "backgroundcolor": "#E5ECF6",
            "gridcolor": "white",
            "gridwidth": 2,
            "linecolor": "white",
            "showbackground": true,
            "ticks": "",
            "zerolinecolor": "white"
           }
          },
          "shapedefaults": {
           "line": {
            "color": "#2a3f5f"
           }
          },
          "ternary": {
           "aaxis": {
            "gridcolor": "white",
            "linecolor": "white",
            "ticks": ""
           },
           "baxis": {
            "gridcolor": "white",
            "linecolor": "white",
            "ticks": ""
           },
           "bgcolor": "#E5ECF6",
           "caxis": {
            "gridcolor": "white",
            "linecolor": "white",
            "ticks": ""
           }
          },
          "title": {
           "x": 0.05
          },
          "xaxis": {
           "automargin": true,
           "gridcolor": "white",
           "linecolor": "white",
           "ticks": "",
           "title": {
            "standoff": 15
           },
           "zerolinecolor": "white",
           "zerolinewidth": 2
          },
          "yaxis": {
           "automargin": true,
           "gridcolor": "white",
           "linecolor": "white",
           "ticks": "",
           "title": {
            "standoff": 15
           },
           "zerolinecolor": "white",
           "zerolinewidth": 2
          }
         }
        }
       }
      },
      "text/html": [
       "<div>                            <div id=\"be0558db-8c54-4da0-9497-600de6f51bca\" class=\"plotly-graph-div\" style=\"height:300px; width:100%;\"></div>            <script type=\"text/javascript\">                require([\"plotly\"], function(Plotly) {                    window.PLOTLYENV=window.PLOTLYENV || {};                                    if (document.getElementById(\"be0558db-8c54-4da0-9497-600de6f51bca\")) {                    Plotly.newPlot(                        \"be0558db-8c54-4da0-9497-600de6f51bca\",                        [{\"customdata\":[[6411,\"NORTH BOUND\"],[6411,\"SOUTH BOUND\"],[6415,\"EAST BOUND\"],[6415,\"WEST BOUND\"],[6419,\"NORTH BOUND\"],[6419,\"SOUTH BOUND\"],[6423,\"NORTH WEST BOUND\"],[6423,\"SOUTH EAST BOUND\"],[6592,\"NORTH WEST BOUND\"],[6592,\"SOUTH EAST BOUND\"],[6596,\"NORTH BOUND\"],[6596,\"SOUTH BOUND\"],[6600,\"EAST BOUND\"],[6600,\"WEST BOUND\"],[7584,\"NORTH WEST BOUND\"],[7584,\"SOUTH EAST BOUND\"],[7588,\"EAST BOUND\"],[7588,\"WEST BOUND\"],[7592,\"NORTH WEST BOUND\"],[7592,\"SOUTH EAST BOUND\"],[7596,\"NORTH EAST BOUND\"],[7596,\"SOUTH WEST BOUND\"],[7600,\"NORTH BOUND\"],[7600,\"SOUTH BOUND\"],[7604,\"NORTH WEST BOUND\"],[7604,\"SOUTH EAST BOUND\"],[8172,\"NORTH WEST BOUND\"],[8172,\"SOUTH EAST BOUND\"],[8176,\"EAST BOUND\"],[8176,\"WEST BOUND\"],[8180,\"NORTH BOUND\"],[8180,\"SOUTH BOUND\"],[8184,\"NORTH WEST BOUND\"],[8184,\"SOUTH EAST BOUND\"],[8188,\"NORTH BOUND\"],[8188,\"SOUTH BOUND\"],[8192,\"NORTH BOUND\"],[8192,\"SOUTH BOUND\"],[8196,\"NORTH WEST BOUND\"],[8196,\"SOUTH EAST BOUND\"],[9077,\"EAST BOUND\"],[9077,\"WEST BOUND\"],[9079,\"EAST BOUND\"],[9079,\"WEST BOUND\"],[9999,\"NORTH BOUND\"],[9999,\"SOUTH BOUND\"],[10223,\"NORTH WEST BOUND\"],[10223,\"SOUTH EAST BOUND\"],[10225,\"NORTH WEST BOUND\"],[10225,\"SOUTH EAST BOUND\"],[10484,\"NORTH EAST BOUND\"],[10484,\"SOUTH WEST BOUND\"],[10486,\"NORTH BOUND\"],[10486,\"SOUTH BOUND\"],[10488,\"NORTH BOUND\"],[10488,\"SOUTH BOUND\"],[31602,\"NORTH BOUND\"],[31602,\"SOUTH BOUND\"],[31747,\"NORTH EAST BOUND\"],[31747,\"SOUTH WEST BOUND\"],[32493,\"NORTH BOUND\"],[32493,\"SOUTH BOUND\"],[33179,\"NORTH BOUND\"],[33179,\"SOUTH BOUND\"],[34215,\"NORTH EAST BOUND\"],[34215,\"SOUTH WEST BOUND\"],[34216,\"NORTH BOUND\"],[34216,\"SOUTH BOUND\"],[34217,\"EAST BOUND\"],[34217,\"WEST BOUND\"],[34271,\"SOUTH WEST BOUND\"],[34314,\"NORTH BOUND\"],[34314,\"SOUTH BOUND\"],[34315,\"NORTH BOUND\"],[34315,\"SOUTH BOUND\"],[34556,\"NORTH EAST BOUND\"],[34556,\"SOUTH WEST BOUND\"],[40003,\"NORTH BOUND\"],[40003,\"SOUTH BOUND\"],[40004,\"EAST BOUND\"],[40004,\"WEST BOUND\"],[40005,\"EAST BOUND\"],[40005,\"WEST BOUND\"],[6588,\"NORTH BOUND\"],[6588,\"SOUTH BOUND\"],[32612,\"NORTH BOUND\"],[32612,\"SOUTH BOUND\"],[32614,\"NORTH BOUND\"],[32614,\"SOUTH BOUND\"],[32615,\"NORTH BOUND\"],[32615,\"SOUTH BOUND\"],[32616,\"NORTH EAST BOUND\"],[32616,\"SOUTH WEST BOUND\"]],\"hovertemplate\":\"<b>%{hovertext}</b><br><br>STRT_LAT=%{lat}<br>STRT_LONG=%{lon}<br>SITE_ID=%{customdata[0]}<br>BEARING_DESC=%{customdata[1]}<extra></extra>\",\"hovertext\":[\"D208X6411\",\"D208X6411\",\"D208X6415\",\"D208X6415\",\"D208X6419\",\"D208X6419\",\"D208X6423\",\"D208X6423\",\"D208X6592\",\"D208X6592\",\"D208X6596\",\"D208X6596\",\"D208X6600\",\"D208X6600\",\"D208X7584\",\"D208X7584\",\"D208X7588\",\"D208X7588\",\"D208X7592\",\"D208X7592\",\"D208X7596\",\"D208X7596\",\"D208X7600\",\"D208X7600\",\"D208X7604\",\"D208X7604\",\"D208X8172\",\"D208X8172\",\"D208X8176\",\"D208X8176\",\"D208X8180\",\"D208X8180\",\"D208X8184\",\"D208X8184\",\"D208X8188\",\"D208X8188\",\"D208X8192\",\"D208X8192\",\"D208X8196\",\"D208X8196\",\"D208X9077\",\"D208X9077\",\"D208X9079\",\"D208X9079\",\"D208X9999\",\"D208X9999\",\"D208X10223\",\"D208X10223\",\"D208X10225\",\"D208X10225\",\"D208X10484\",\"D208X10484\",\"D208X10486\",\"D208X10486\",\"D208X10488\",\"D208X10488\",\"D208X31602\",\"D208X31602\",\"D208X31747\",\"D208X31747\",\"D208X32493\",\"D208X32493\",\"D208X33179\",\"D208X33179\",\" D208X34215\",\" D208X34215\",\" D208X34216\",\" D208X34216\",\" D208X34217\",\" D208X34217\",\"D208X34271\",\"D208X34314\",\"D208X34314\",\"D208X34315\",\"D208X34315\",\"D208X34556\",\"D208X34556\",\"D208X40003\",\"D208X40003\",\"D208X40004\",\"D208X40004\",\"D208X40005\",\"D208X40005\",null,null,\"D208X32612\",\"D208X32612\",\"D208X32614\",\"D208X32614\",\" D208X32615\",\" D208X32615\",\"D208X32616\",\"D208X32616\"],\"lat\":[-37.77231,-37.77235,-37.82713,-37.82714,-37.75829,-37.75835,-37.82026,-37.82032,-37.81035,-37.81036,-37.87102,-37.87105,-37.89091,-37.89091,-37.79171,-37.79172,-37.77996,-37.77996,-37.79391,-37.79389,-37.80676,-37.80677,-37.79975,-37.79981,-37.78822,-37.78828,-37.827,-37.827,-37.8302,-37.8346,-37.778,-37.77801,-37.83429,-37.83429,-37.74322,-37.74325,-37.86261,-37.86268,-38.50771,-38.50772,-37.8093912,-37.8093912,-37.77893,-37.77893,-37.8322796,-37.8249565,-37.81153,-37.81146,-37.7936124,-37.7894039,-37.83099,-37.83102,-37.7925397,-37.7925397,-37.8721308,-37.8679721,-37.79574,-37.79574,-37.81843,-37.81843,-37.80724,-37.80709,-37.80865,-37.80863,-37.78006,-37.78006,-37.76725,-37.76725,-37.76591,-37.76591,-37.80635,-37.79191,-37.79191,-37.7788,-37.7788,-37.86031,-37.86031,-37.78605,-37.78679,-37.7838,-37.78399,-37.78342,-37.78357,-37.79335,-37.79333,-37.94766,-37.94766,-37.91666,-37.91666,-37.9061,-37.9061,-37.99504,-37.99504],\"legendgroup\":\"\",\"lon\":[144.99042,144.99077,144.98511,144.98513,144.98039,144.98044,144.84103,144.84111,144.93758,144.93762,144.97595,144.97595,145.123,145.12301,145.10505,145.10507,144.96262,144.96258,145.03325,145.03323,144.90464,144.90463,144.98051,144.9805,145.0281,145.02814,144.984,144.984,144.98781,144.99656,144.95816,144.95816,145.02441,145.02442,144.99804,144.99803,145.06196,145.06198,145.29107,145.2911,144.9743112,144.9743112,145.03674,145.03674,144.9718019,144.9708814,145.06365,145.06363,144.9474502,144.942169,144.94669,144.94666,144.9584352,144.9584352,144.9896562,144.9872744,145.04166,145.04166,145.22385,145.22386,144.98597,144.98599,144.93588,144.93589,144.99948,144.99948,144.98755,144.98755,145.0055,145.0055,144.90497,144.9739,144.9739,145.03497,145.03497,144.73627,144.73627,144.99927,144.99971,145.00727,145.00768,145.01666,145.01688,144.97364,144.97365,145.00051,145.00051,144.98709,144.98709,144.98494,144.98494,145.03862,145.03862],\"marker\":{\"color\":\"fuchsia\"},\"mode\":\"markers\",\"name\":\"\",\"showlegend\":false,\"subplot\":\"mapbox\",\"type\":\"scattermapbox\"}],                        {\"height\":300,\"legend\":{\"tracegroupgap\":0},\"mapbox\":{\"center\":{\"lat\":-37.832248893548375,\"lon\":144.99845716021505},\"domain\":{\"x\":[0.0,1.0],\"y\":[0.0,1.0]},\"style\":\"open-street-map\",\"zoom\":9},\"margin\":{\"b\":0,\"l\":0,\"r\":0,\"t\":0},\"template\":{\"data\":{\"bar\":[{\"error_x\":{\"color\":\"#2a3f5f\"},\"error_y\":{\"color\":\"#2a3f5f\"},\"marker\":{\"line\":{\"color\":\"#E5ECF6\",\"width\":0.5},\"pattern\":{\"fillmode\":\"overlay\",\"size\":10,\"solidity\":0.2}},\"type\":\"bar\"}],\"barpolar\":[{\"marker\":{\"line\":{\"color\":\"#E5ECF6\",\"width\":0.5},\"pattern\":{\"fillmode\":\"overlay\",\"size\":10,\"solidity\":0.2}},\"type\":\"barpolar\"}],\"carpet\":[{\"aaxis\":{\"endlinecolor\":\"#2a3f5f\",\"gridcolor\":\"white\",\"linecolor\":\"white\",\"minorgridcolor\":\"white\",\"startlinecolor\":\"#2a3f5f\"},\"baxis\":{\"endlinecolor\":\"#2a3f5f\",\"gridcolor\":\"white\",\"linecolor\":\"white\",\"minorgridcolor\":\"white\",\"startlinecolor\":\"#2a3f5f\"},\"type\":\"carpet\"}],\"choropleth\":[{\"colorbar\":{\"outlinewidth\":0,\"ticks\":\"\"},\"type\":\"choropleth\"}],\"contour\":[{\"colorbar\":{\"outlinewidth\":0,\"ticks\":\"\"},\"colorscale\":[[0.0,\"#0d0887\"],[0.1111111111111111,\"#46039f\"],[0.2222222222222222,\"#7201a8\"],[0.3333333333333333,\"#9c179e\"],[0.4444444444444444,\"#bd3786\"],[0.5555555555555556,\"#d8576b\"],[0.6666666666666666,\"#ed7953\"],[0.7777777777777778,\"#fb9f3a\"],[0.8888888888888888,\"#fdca26\"],[1.0,\"#f0f921\"]],\"type\":\"contour\"}],\"contourcarpet\":[{\"colorbar\":{\"outlinewidth\":0,\"ticks\":\"\"},\"type\":\"contourcarpet\"}],\"heatmap\":[{\"colorbar\":{\"outlinewidth\":0,\"ticks\":\"\"},\"colorscale\":[[0.0,\"#0d0887\"],[0.1111111111111111,\"#46039f\"],[0.2222222222222222,\"#7201a8\"],[0.3333333333333333,\"#9c179e\"],[0.4444444444444444,\"#bd3786\"],[0.5555555555555556,\"#d8576b\"],[0.6666666666666666,\"#ed7953\"],[0.7777777777777778,\"#fb9f3a\"],[0.8888888888888888,\"#fdca26\"],[1.0,\"#f0f921\"]],\"type\":\"heatmap\"}],\"heatmapgl\":[{\"colorbar\":{\"outlinewidth\":0,\"ticks\":\"\"},\"colorscale\":[[0.0,\"#0d0887\"],[0.1111111111111111,\"#46039f\"],[0.2222222222222222,\"#7201a8\"],[0.3333333333333333,\"#9c179e\"],[0.4444444444444444,\"#bd3786\"],[0.5555555555555556,\"#d8576b\"],[0.6666666666666666,\"#ed7953\"],[0.7777777777777778,\"#fb9f3a\"],[0.8888888888888888,\"#fdca26\"],[1.0,\"#f0f921\"]],\"type\":\"heatmapgl\"}],\"histogram\":[{\"marker\":{\"pattern\":{\"fillmode\":\"overlay\",\"size\":10,\"solidity\":0.2}},\"type\":\"histogram\"}],\"histogram2d\":[{\"colorbar\":{\"outlinewidth\":0,\"ticks\":\"\"},\"colorscale\":[[0.0,\"#0d0887\"],[0.1111111111111111,\"#46039f\"],[0.2222222222222222,\"#7201a8\"],[0.3333333333333333,\"#9c179e\"],[0.4444444444444444,\"#bd3786\"],[0.5555555555555556,\"#d8576b\"],[0.6666666666666666,\"#ed7953\"],[0.7777777777777778,\"#fb9f3a\"],[0.8888888888888888,\"#fdca26\"],[1.0,\"#f0f921\"]],\"type\":\"histogram2d\"}],\"histogram2dcontour\":[{\"colorbar\":{\"outlinewidth\":0,\"ticks\":\"\"},\"colorscale\":[[0.0,\"#0d0887\"],[0.1111111111111111,\"#46039f\"],[0.2222222222222222,\"#7201a8\"],[0.3333333333333333,\"#9c179e\"],[0.4444444444444444,\"#bd3786\"],[0.5555555555555556,\"#d8576b\"],[0.6666666666666666,\"#ed7953\"],[0.7777777777777778,\"#fb9f3a\"],[0.8888888888888888,\"#fdca26\"],[1.0,\"#f0f921\"]],\"type\":\"histogram2dcontour\"}],\"mesh3d\":[{\"colorbar\":{\"outlinewidth\":0,\"ticks\":\"\"},\"type\":\"mesh3d\"}],\"parcoords\":[{\"line\":{\"colorbar\":{\"outlinewidth\":0,\"ticks\":\"\"}},\"type\":\"parcoords\"}],\"pie\":[{\"automargin\":true,\"type\":\"pie\"}],\"scatter\":[{\"marker\":{\"colorbar\":{\"outlinewidth\":0,\"ticks\":\"\"}},\"type\":\"scatter\"}],\"scatter3d\":[{\"line\":{\"colorbar\":{\"outlinewidth\":0,\"ticks\":\"\"}},\"marker\":{\"colorbar\":{\"outlinewidth\":0,\"ticks\":\"\"}},\"type\":\"scatter3d\"}],\"scattercarpet\":[{\"marker\":{\"colorbar\":{\"outlinewidth\":0,\"ticks\":\"\"}},\"type\":\"scattercarpet\"}],\"scattergeo\":[{\"marker\":{\"colorbar\":{\"outlinewidth\":0,\"ticks\":\"\"}},\"type\":\"scattergeo\"}],\"scattergl\":[{\"marker\":{\"colorbar\":{\"outlinewidth\":0,\"ticks\":\"\"}},\"type\":\"scattergl\"}],\"scattermapbox\":[{\"marker\":{\"colorbar\":{\"outlinewidth\":0,\"ticks\":\"\"}},\"type\":\"scattermapbox\"}],\"scatterpolar\":[{\"marker\":{\"colorbar\":{\"outlinewidth\":0,\"ticks\":\"\"}},\"type\":\"scatterpolar\"}],\"scatterpolargl\":[{\"marker\":{\"colorbar\":{\"outlinewidth\":0,\"ticks\":\"\"}},\"type\":\"scatterpolargl\"}],\"scatterternary\":[{\"marker\":{\"colorbar\":{\"outlinewidth\":0,\"ticks\":\"\"}},\"type\":\"scatterternary\"}],\"surface\":[{\"colorbar\":{\"outlinewidth\":0,\"ticks\":\"\"},\"colorscale\":[[0.0,\"#0d0887\"],[0.1111111111111111,\"#46039f\"],[0.2222222222222222,\"#7201a8\"],[0.3333333333333333,\"#9c179e\"],[0.4444444444444444,\"#bd3786\"],[0.5555555555555556,\"#d8576b\"],[0.6666666666666666,\"#ed7953\"],[0.7777777777777778,\"#fb9f3a\"],[0.8888888888888888,\"#fdca26\"],[1.0,\"#f0f921\"]],\"type\":\"surface\"}],\"table\":[{\"cells\":{\"fill\":{\"color\":\"#EBF0F8\"},\"line\":{\"color\":\"white\"}},\"header\":{\"fill\":{\"color\":\"#C8D4E3\"},\"line\":{\"color\":\"white\"}},\"type\":\"table\"}]},\"layout\":{\"annotationdefaults\":{\"arrowcolor\":\"#2a3f5f\",\"arrowhead\":0,\"arrowwidth\":1},\"autotypenumbers\":\"strict\",\"coloraxis\":{\"colorbar\":{\"outlinewidth\":0,\"ticks\":\"\"}},\"colorscale\":{\"diverging\":[[0,\"#8e0152\"],[0.1,\"#c51b7d\"],[0.2,\"#de77ae\"],[0.3,\"#f1b6da\"],[0.4,\"#fde0ef\"],[0.5,\"#f7f7f7\"],[0.6,\"#e6f5d0\"],[0.7,\"#b8e186\"],[0.8,\"#7fbc41\"],[0.9,\"#4d9221\"],[1,\"#276419\"]],\"sequential\":[[0.0,\"#0d0887\"],[0.1111111111111111,\"#46039f\"],[0.2222222222222222,\"#7201a8\"],[0.3333333333333333,\"#9c179e\"],[0.4444444444444444,\"#bd3786\"],[0.5555555555555556,\"#d8576b\"],[0.6666666666666666,\"#ed7953\"],[0.7777777777777778,\"#fb9f3a\"],[0.8888888888888888,\"#fdca26\"],[1.0,\"#f0f921\"]],\"sequentialminus\":[[0.0,\"#0d0887\"],[0.1111111111111111,\"#46039f\"],[0.2222222222222222,\"#7201a8\"],[0.3333333333333333,\"#9c179e\"],[0.4444444444444444,\"#bd3786\"],[0.5555555555555556,\"#d8576b\"],[0.6666666666666666,\"#ed7953\"],[0.7777777777777778,\"#fb9f3a\"],[0.8888888888888888,\"#fdca26\"],[1.0,\"#f0f921\"]]},\"colorway\":[\"#636efa\",\"#EF553B\",\"#00cc96\",\"#ab63fa\",\"#FFA15A\",\"#19d3f3\",\"#FF6692\",\"#B6E880\",\"#FF97FF\",\"#FECB52\"],\"font\":{\"color\":\"#2a3f5f\"},\"geo\":{\"bgcolor\":\"white\",\"lakecolor\":\"white\",\"landcolor\":\"#E5ECF6\",\"showlakes\":true,\"showland\":true,\"subunitcolor\":\"white\"},\"hoverlabel\":{\"align\":\"left\"},\"hovermode\":\"closest\",\"mapbox\":{\"style\":\"light\"},\"paper_bgcolor\":\"white\",\"plot_bgcolor\":\"#E5ECF6\",\"polar\":{\"angularaxis\":{\"gridcolor\":\"white\",\"linecolor\":\"white\",\"ticks\":\"\"},\"bgcolor\":\"#E5ECF6\",\"radialaxis\":{\"gridcolor\":\"white\",\"linecolor\":\"white\",\"ticks\":\"\"}},\"scene\":{\"xaxis\":{\"backgroundcolor\":\"#E5ECF6\",\"gridcolor\":\"white\",\"gridwidth\":2,\"linecolor\":\"white\",\"showbackground\":true,\"ticks\":\"\",\"zerolinecolor\":\"white\"},\"yaxis\":{\"backgroundcolor\":\"#E5ECF6\",\"gridcolor\":\"white\",\"gridwidth\":2,\"linecolor\":\"white\",\"showbackground\":true,\"ticks\":\"\",\"zerolinecolor\":\"white\"},\"zaxis\":{\"backgroundcolor\":\"#E5ECF6\",\"gridcolor\":\"white\",\"gridwidth\":2,\"linecolor\":\"white\",\"showbackground\":true,\"ticks\":\"\",\"zerolinecolor\":\"white\"}},\"shapedefaults\":{\"line\":{\"color\":\"#2a3f5f\"}},\"ternary\":{\"aaxis\":{\"gridcolor\":\"white\",\"linecolor\":\"white\",\"ticks\":\"\"},\"baxis\":{\"gridcolor\":\"white\",\"linecolor\":\"white\",\"ticks\":\"\"},\"bgcolor\":\"#E5ECF6\",\"caxis\":{\"gridcolor\":\"white\",\"linecolor\":\"white\",\"ticks\":\"\"}},\"title\":{\"x\":0.05},\"xaxis\":{\"automargin\":true,\"gridcolor\":\"white\",\"linecolor\":\"white\",\"ticks\":\"\",\"title\":{\"standoff\":15},\"zerolinecolor\":\"white\",\"zerolinewidth\":2},\"yaxis\":{\"automargin\":true,\"gridcolor\":\"white\",\"linecolor\":\"white\",\"ticks\":\"\",\"title\":{\"standoff\":15},\"zerolinecolor\":\"white\",\"zerolinewidth\":2}}}},                        {\"responsive\": true}                    ).then(function(){\n",
       "                            \n",
       "var gd = document.getElementById('be0558db-8c54-4da0-9497-600de6f51bca');\n",
       "var x = new MutationObserver(function (mutations, observer) {{\n",
       "        var display = window.getComputedStyle(gd).display;\n",
       "        if (!display || display === 'none') {{\n",
       "            console.log([gd, 'removed!']);\n",
       "            Plotly.purge(gd);\n",
       "            observer.disconnect();\n",
       "        }}\n",
       "}});\n",
       "\n",
       "// Listen for the removal of the full notebook cells\n",
       "var notebookContainer = gd.closest('#notebook-container');\n",
       "if (notebookContainer) {{\n",
       "    x.observe(notebookContainer, {childList: true});\n",
       "}}\n",
       "\n",
       "// Listen for the clearing of the current output cell\n",
       "var outputEl = gd.closest('.output');\n",
       "if (outputEl) {{\n",
       "    x.observe(outputEl, {childList: true});\n",
       "}}\n",
       "\n",
       "                        })                };                });            </script>        </div>"
      ]
     },
     "metadata": {},
     "output_type": "display_data"
    }
   ],
   "source": [
    "fig = px.scatter_mapbox(sites, lat=\"STRT_LAT\", lon=\"STRT_LONG\", hover_name=\"SITE_NAME\", hover_data=[\"SITE_ID\", \"BEARING_DESC\"],\n",
    "                        color_discrete_sequence=[\"fuchsia\"], zoom=9, height=300)\n",
    "fig.update_layout(mapbox_style=\"open-street-map\")\n",
    "fig.update_layout(margin={\"r\":0,\"t\":0,\"l\":0,\"b\":0})\n",
    "fig.write_html('Site_Map.html')\n",
    "fig.show()\n"
   ]
  },
  {
   "cell_type": "markdown",
   "id": "5e87e01f",
   "metadata": {},
   "source": [
    "## Data validation \n",
    "\n",
    "The bicycle data is delivered in a large number of CSV files, without an accompanying data dictionary.  To be sure the same columns are shared by all CSVs, such that they can be appended to a master file, we iterate over them and tally up the unique column combinations.  Ideally, the results will be a single combination of columns with a tally count the length of the number of CSV files.  Let's see!"
   ]
  },
  {
   "cell_type": "code",
   "execution_count": 2,
   "id": "37b16054",
   "metadata": {},
   "outputs": [],
   "source": [
    "#rootdir ='../data'\n",
    "#tally = pd.DataFrame(columns=[\"count\",\"len\"])\n",
    "#counter = 0\n",
    "#for subdir, dirs, files in tqdm(os.walk(rootdir)):\n",
    "#    for file in files:\n",
    "#        if ('.csv' in file) and ('.zip' not in file):\n",
    "#            # read in CSV, if it contains records (which at least one doesn't!)\n",
    "#            file_path = os.path.join(subdir,file)\n",
    "#            if os.path.getsize(file_path) > 0:\n",
    "#                df = pd.read_csv(os.path.join(subdir,file))\n",
    "#                # store list of columns in variable df_columns as a string\n",
    "#                df_columns = f\"{df.columns.to_list()}\"\n",
    "#                # if CSV columns string is in the tally index, increment this\n",
    "#                if df_columns in tally.index:\n",
    "#                    tally[tally.index==df_columns] += 1\n",
    "#                # otherwise add CSV columns string to the tally index\n",
    "#                else:\n",
    "#                    tally.loc[df_columns] = 1\n",
    "#                # increment a counter; athough theoretically this should only sum to the sum of tallys!\n",
    "#                counter+=1\n",
    "#\n",
    "#print(counter)"
   ]
  },
  {
   "cell_type": "code",
   "execution_count": 8,
   "id": "627d1e60",
   "metadata": {},
   "outputs": [
    {
     "data": {
      "text/html": [
       "<div>\n",
       "<style scoped>\n",
       "    .dataframe tbody tr th:only-of-type {\n",
       "        vertical-align: middle;\n",
       "    }\n",
       "\n",
       "    .dataframe tbody tr th {\n",
       "        vertical-align: top;\n",
       "    }\n",
       "\n",
       "    .dataframe thead th {\n",
       "        text-align: right;\n",
       "    }\n",
       "</style>\n",
       "<table border=\"1\" class=\"dataframe\">\n",
       "  <thead>\n",
       "    <tr style=\"text-align: right;\">\n",
       "      <th></th>\n",
       "      <th>count</th>\n",
       "    </tr>\n",
       "  </thead>\n",
       "  <tbody>\n",
       "    <tr>\n",
       "      <th>['DATA_TYPE', 'TIS_DATA_REQUEST', 'SITE_XN_ROUTE', 'LOC_LEG', 'DATE', 'TIME', 'CLASS', 'LANE', 'SPEED', 'WHEELBASE', 'HEADWAY', 'GAP', 'AXLE', 'AXLE_GROUPING', 'RHO', 'VEHICLE', 'DIRECTION']</th>\n",
       "      <td>13229</td>\n",
       "    </tr>\n",
       "  </tbody>\n",
       "</table>\n",
       "</div>"
      ],
      "text/plain": [
       "                                                    count\n",
       "['DATA_TYPE', 'TIS_DATA_REQUEST', 'SITE_XN_ROUT...  13229"
      ]
     },
     "execution_count": 8,
     "metadata": {},
     "output_type": "execute_result"
    }
   ],
   "source": [
    "tally"
   ]
  },
  {
   "cell_type": "markdown",
   "id": "6c9ecafb",
   "metadata": {},
   "source": [
    "## Creating a master dataframe\n",
    "\n",
    "Now that we know that all of the CSVs share the same column names, we will join the various files together to create a master dataframe to run the analysis on. "
   ]
  },
  {
   "cell_type": "code",
   "execution_count": 3,
   "id": "3651e86e",
   "metadata": {
    "scrolled": true
   },
   "outputs": [
    {
     "data": {
      "application/vnd.jupyter.widget-view+json": {
       "model_id": "bde07b0f890d462db2fe21f0d7663db2",
       "version_major": 2,
       "version_minor": 0
      },
      "text/plain": [
       "Getting CSV file paths...: 0CSVs [00:00, ?CSVs/s]"
      ]
     },
     "metadata": {},
     "output_type": "display_data"
    },
    {
     "name": "stdout",
     "output_type": "stream",
     "text": [
      "Identified the locations of 1430 valid CSV files to compile!\n"
     ]
    }
   ],
   "source": [
    "data_years = ['Bicycle_Volume_Speed_2017',\n",
    "'Bicycle_Volume_Speed_2018',\n",
    "'Bicycle_Volume_Speed_2019',\n",
    "'Bicycle_Volume_Speed_2020',\n",
    "'Bicycle_Volume_Speed_2021']\n",
    "\n",
    "rootdir = f'../../data/DPC/bicycle_flows/{data_years[0]}'\n",
    "csv_files = []\n",
    "\n",
    "for subdir, dirs, files in tqdm(os.walk(rootdir),desc=\"Getting CSV file paths...\",unit=\"CSVs\"):\n",
    "    for file in files:\n",
    "        if ('.csv' in file) and ('.zip' not in file):\n",
    "            # record filepaths of CSVs containing records\n",
    "            file_path = os.path.join(subdir,file)\n",
    "            if os.path.getsize(file_path) > 0:\n",
    "                csv_files.append(os.path.join(subdir,file))\n",
    "\n",
    "print(f\"Identified the locations of {len(csv_files)} valid CSV files to compile!\")"
   ]
  },
  {
   "cell_type": "code",
   "execution_count": 4,
   "id": "a12963e7",
   "metadata": {},
   "outputs": [
    {
     "data": {
      "application/vnd.jupyter.widget-view+json": {
       "model_id": "66f619dd83e943eb9d44406db9f866a1",
       "version_major": 2,
       "version_minor": 0
      },
      "text/plain": [
       "Reading csv files for ../../data/DPC/bicycle_flows/Bicycle_Volume_Speed_2017...:   0%|          | 0/1430 [00:0…"
      ]
     },
     "metadata": {},
     "output_type": "display_data"
    }
   ],
   "source": [
    "dfs=[]\n",
    "for csv in tqdm(csv_files,desc=f\"Reading csv files for {rootdir}...\",unit=\"CSVs\"):\n",
    "    csv_df = pd.read_csv(csv, index_col=None, header=0)\n",
    "    dfs.append(csv_df)\n",
    "    del csv_df\n",
    "\n",
    "dfs = pd.concat(dfs, axis=0, ignore_index=True)"
   ]
  },
  {
   "cell_type": "markdown",
   "id": "ecb1771b",
   "metadata": {},
   "source": [
    "## Summary statistics\n",
    "\n",
    "Let's look at the summary statistics for the master dataframe! First we'll look at what type of data is included in each column. Then we can see can check the max/min values, and the distribution of the data, to see if there are any outlying data points. "
   ]
  },
  {
   "cell_type": "code",
   "execution_count": 5,
   "id": "15f0dd1c",
   "metadata": {},
   "outputs": [
    {
     "name": "stdout",
     "output_type": "stream",
     "text": [
      "<class 'pandas.core.frame.DataFrame'>\n",
      "RangeIndex: 9989156 entries, 0 to 9989155\n",
      "Data columns (total 17 columns):\n",
      " #   Column            Dtype  \n",
      "---  ------            -----  \n",
      " 0   DATA_TYPE         object \n",
      " 1   TIS_DATA_REQUEST  object \n",
      " 2   SITE_XN_ROUTE     object \n",
      " 3   LOC_LEG           object \n",
      " 4   DATE              object \n",
      " 5   TIME              object \n",
      " 6   CLASS             object \n",
      " 7   LANE              object \n",
      " 8   SPEED             float64\n",
      " 9   WHEELBASE         float64\n",
      " 10  HEADWAY           float64\n",
      " 11  GAP               float64\n",
      " 12  AXLE              object \n",
      " 13  AXLE_GROUPING     object \n",
      " 14  RHO               float64\n",
      " 15  VEHICLE           object \n",
      " 16  DIRECTION         object \n",
      "dtypes: float64(5), object(12)\n",
      "memory usage: 1.3+ GB\n"
     ]
    }
   ],
   "source": [
    "dfs.info()"
   ]
  },
  {
   "cell_type": "code",
   "execution_count": 6,
   "id": "b8aa444d",
   "metadata": {},
   "outputs": [
    {
     "data": {
      "text/html": [
       "<div>\n",
       "<style scoped>\n",
       "    .dataframe tbody tr th:only-of-type {\n",
       "        vertical-align: middle;\n",
       "    }\n",
       "\n",
       "    .dataframe tbody tr th {\n",
       "        vertical-align: top;\n",
       "    }\n",
       "\n",
       "    .dataframe thead th {\n",
       "        text-align: right;\n",
       "    }\n",
       "</style>\n",
       "<table border=\"1\" class=\"dataframe\">\n",
       "  <thead>\n",
       "    <tr style=\"text-align: right;\">\n",
       "      <th></th>\n",
       "      <th>DATA_TYPE</th>\n",
       "      <th>TIS_DATA_REQUEST</th>\n",
       "      <th>SITE_XN_ROUTE</th>\n",
       "      <th>LOC_LEG</th>\n",
       "      <th>DATE</th>\n",
       "      <th>TIME</th>\n",
       "      <th>CLASS</th>\n",
       "      <th>LANE</th>\n",
       "      <th>SPEED</th>\n",
       "      <th>WHEELBASE</th>\n",
       "      <th>HEADWAY</th>\n",
       "      <th>GAP</th>\n",
       "      <th>AXLE</th>\n",
       "      <th>AXLE_GROUPING</th>\n",
       "      <th>RHO</th>\n",
       "      <th>VEHICLE</th>\n",
       "      <th>DIRECTION</th>\n",
       "    </tr>\n",
       "  </thead>\n",
       "  <tbody>\n",
       "    <tr>\n",
       "      <th>0</th>\n",
       "      <td>IND</td>\n",
       "      <td>208</td>\n",
       "      <td>10223</td>\n",
       "      <td>59444</td>\n",
       "      <td>26/12/2016</td>\n",
       "      <td>03:13:06</td>\n",
       "      <td>15</td>\n",
       "      <td>1</td>\n",
       "      <td>22.2</td>\n",
       "      <td>1.1</td>\n",
       "      <td>0.0</td>\n",
       "      <td>0.1</td>\n",
       "      <td>2</td>\n",
       "      <td>1</td>\n",
       "      <td>1.0</td>\n",
       "      <td>CYCLE</td>\n",
       "      <td>S</td>\n",
       "    </tr>\n",
       "    <tr>\n",
       "      <th>1</th>\n",
       "      <td>IND</td>\n",
       "      <td>208</td>\n",
       "      <td>10223</td>\n",
       "      <td>59443</td>\n",
       "      <td>26/12/2016</td>\n",
       "      <td>04:13:44</td>\n",
       "      <td>15</td>\n",
       "      <td>0</td>\n",
       "      <td>28.6</td>\n",
       "      <td>1.0</td>\n",
       "      <td>3637.5</td>\n",
       "      <td>3637.5</td>\n",
       "      <td>2</td>\n",
       "      <td>1</td>\n",
       "      <td>1.0</td>\n",
       "      <td>CYCLE</td>\n",
       "      <td>N</td>\n",
       "    </tr>\n",
       "    <tr>\n",
       "      <th>2</th>\n",
       "      <td>IND</td>\n",
       "      <td>208</td>\n",
       "      <td>10223</td>\n",
       "      <td>59443</td>\n",
       "      <td>26/12/2016</td>\n",
       "      <td>05:10:53</td>\n",
       "      <td>15</td>\n",
       "      <td>0</td>\n",
       "      <td>25.3</td>\n",
       "      <td>1.0</td>\n",
       "      <td>3429.8</td>\n",
       "      <td>3429.7</td>\n",
       "      <td>2</td>\n",
       "      <td>1</td>\n",
       "      <td>1.0</td>\n",
       "      <td>CYCLE</td>\n",
       "      <td>N</td>\n",
       "    </tr>\n",
       "    <tr>\n",
       "      <th>3</th>\n",
       "      <td>IND</td>\n",
       "      <td>208</td>\n",
       "      <td>10223</td>\n",
       "      <td>59444</td>\n",
       "      <td>26/12/2016</td>\n",
       "      <td>05:11:28</td>\n",
       "      <td>15</td>\n",
       "      <td>1</td>\n",
       "      <td>17.7</td>\n",
       "      <td>1.0</td>\n",
       "      <td>7102.2</td>\n",
       "      <td>7102.1</td>\n",
       "      <td>2</td>\n",
       "      <td>1</td>\n",
       "      <td>1.0</td>\n",
       "      <td>CYCLE</td>\n",
       "      <td>S</td>\n",
       "    </tr>\n",
       "    <tr>\n",
       "      <th>4</th>\n",
       "      <td>IND</td>\n",
       "      <td>208</td>\n",
       "      <td>10223</td>\n",
       "      <td>59443</td>\n",
       "      <td>26/12/2016</td>\n",
       "      <td>05:42:05</td>\n",
       "      <td>15</td>\n",
       "      <td>0</td>\n",
       "      <td>30.3</td>\n",
       "      <td>1.0</td>\n",
       "      <td>1872.0</td>\n",
       "      <td>1871.8</td>\n",
       "      <td>2</td>\n",
       "      <td>1</td>\n",
       "      <td>1.0</td>\n",
       "      <td>CYCLE</td>\n",
       "      <td>N</td>\n",
       "    </tr>\n",
       "  </tbody>\n",
       "</table>\n",
       "</div>"
      ],
      "text/plain": [
       "  DATA_TYPE TIS_DATA_REQUEST SITE_XN_ROUTE LOC_LEG        DATE      TIME  \\\n",
       "0       IND              208         10223   59444  26/12/2016  03:13:06   \n",
       "1       IND              208         10223   59443  26/12/2016  04:13:44   \n",
       "2       IND              208         10223   59443  26/12/2016  05:10:53   \n",
       "3       IND              208         10223   59444  26/12/2016  05:11:28   \n",
       "4       IND              208         10223   59443  26/12/2016  05:42:05   \n",
       "\n",
       "  CLASS LANE  SPEED  WHEELBASE  HEADWAY     GAP AXLE AXLE_GROUPING  RHO  \\\n",
       "0    15    1   22.2        1.1      0.0     0.1    2             1  1.0   \n",
       "1    15    0   28.6        1.0   3637.5  3637.5    2             1  1.0   \n",
       "2    15    0   25.3        1.0   3429.8  3429.7    2             1  1.0   \n",
       "3    15    1   17.7        1.0   7102.2  7102.1    2             1  1.0   \n",
       "4    15    0   30.3        1.0   1872.0  1871.8    2             1  1.0   \n",
       "\n",
       "  VEHICLE DIRECTION  \n",
       "0   CYCLE         S  \n",
       "1   CYCLE         N  \n",
       "2   CYCLE         N  \n",
       "3   CYCLE         S  \n",
       "4   CYCLE         N  "
      ]
     },
     "execution_count": 6,
     "metadata": {},
     "output_type": "execute_result"
    }
   ],
   "source": [
    "dfs.head()"
   ]
  },
  {
   "cell_type": "code",
   "execution_count": 23,
   "id": "02aefb02",
   "metadata": {
    "scrolled": false
   },
   "outputs": [
    {
     "data": {
      "text/html": [
       "<div>\n",
       "<style scoped>\n",
       "    .dataframe tbody tr th:only-of-type {\n",
       "        vertical-align: middle;\n",
       "    }\n",
       "\n",
       "    .dataframe tbody tr th {\n",
       "        vertical-align: top;\n",
       "    }\n",
       "\n",
       "    .dataframe thead th {\n",
       "        text-align: right;\n",
       "    }\n",
       "</style>\n",
       "<table border=\"1\" class=\"dataframe\">\n",
       "  <thead>\n",
       "    <tr style=\"text-align: right;\">\n",
       "      <th></th>\n",
       "      <th>SPEED</th>\n",
       "      <th>WHEELBASE</th>\n",
       "      <th>HEADWAY</th>\n",
       "      <th>GAP</th>\n",
       "      <th>RHO</th>\n",
       "    </tr>\n",
       "  </thead>\n",
       "  <tbody>\n",
       "    <tr>\n",
       "      <th>count</th>\n",
       "      <td>9.989156e+06</td>\n",
       "      <td>9.989156e+06</td>\n",
       "      <td>9.989156e+06</td>\n",
       "      <td>9.989156e+06</td>\n",
       "      <td>9.989156e+06</td>\n",
       "    </tr>\n",
       "    <tr>\n",
       "      <th>mean</th>\n",
       "      <td>2.183996e+01</td>\n",
       "      <td>1.030735e+00</td>\n",
       "      <td>1.890292e+02</td>\n",
       "      <td>1.905951e+02</td>\n",
       "      <td>9.768114e-01</td>\n",
       "    </tr>\n",
       "    <tr>\n",
       "      <th>std</th>\n",
       "      <td>6.683758e+00</td>\n",
       "      <td>9.946097e-02</td>\n",
       "      <td>1.348285e+03</td>\n",
       "      <td>1.553156e+03</td>\n",
       "      <td>1.055660e-01</td>\n",
       "    </tr>\n",
       "    <tr>\n",
       "      <th>min</th>\n",
       "      <td>3.000000e-01</td>\n",
       "      <td>0.000000e+00</td>\n",
       "      <td>0.000000e+00</td>\n",
       "      <td>0.000000e+00</td>\n",
       "      <td>0.000000e+00</td>\n",
       "    </tr>\n",
       "    <tr>\n",
       "      <th>25%</th>\n",
       "      <td>1.740000e+01</td>\n",
       "      <td>1.000000e+00</td>\n",
       "      <td>3.300000e+00</td>\n",
       "      <td>3.100000e+00</td>\n",
       "      <td>1.000000e+00</td>\n",
       "    </tr>\n",
       "    <tr>\n",
       "      <th>50%</th>\n",
       "      <td>2.190000e+01</td>\n",
       "      <td>1.000000e+00</td>\n",
       "      <td>2.670000e+01</td>\n",
       "      <td>2.650000e+01</td>\n",
       "      <td>1.000000e+00</td>\n",
       "    </tr>\n",
       "    <tr>\n",
       "      <th>75%</th>\n",
       "      <td>2.640000e+01</td>\n",
       "      <td>1.100000e+00</td>\n",
       "      <td>1.132000e+02</td>\n",
       "      <td>1.130000e+02</td>\n",
       "      <td>1.000000e+00</td>\n",
       "    </tr>\n",
       "    <tr>\n",
       "      <th>max</th>\n",
       "      <td>1.596000e+02</td>\n",
       "      <td>7.600000e+00</td>\n",
       "      <td>8.640000e+04</td>\n",
       "      <td>5.692331e+05</td>\n",
       "      <td>1.500000e+00</td>\n",
       "    </tr>\n",
       "  </tbody>\n",
       "</table>\n",
       "</div>"
      ],
      "text/plain": [
       "              SPEED     WHEELBASE       HEADWAY           GAP           RHO\n",
       "count  9.989156e+06  9.989156e+06  9.989156e+06  9.989156e+06  9.989156e+06\n",
       "mean   2.183996e+01  1.030735e+00  1.890292e+02  1.905951e+02  9.768114e-01\n",
       "std    6.683758e+00  9.946097e-02  1.348285e+03  1.553156e+03  1.055660e-01\n",
       "min    3.000000e-01  0.000000e+00  0.000000e+00  0.000000e+00  0.000000e+00\n",
       "25%    1.740000e+01  1.000000e+00  3.300000e+00  3.100000e+00  1.000000e+00\n",
       "50%    2.190000e+01  1.000000e+00  2.670000e+01  2.650000e+01  1.000000e+00\n",
       "75%    2.640000e+01  1.100000e+00  1.132000e+02  1.130000e+02  1.000000e+00\n",
       "max    1.596000e+02  7.600000e+00  8.640000e+04  5.692331e+05  1.500000e+00"
      ]
     },
     "execution_count": 23,
     "metadata": {},
     "output_type": "execute_result"
    }
   ],
   "source": [
    "#Summary statistics\n",
    "\n",
    "dfs.describe()"
   ]
  },
  {
   "cell_type": "code",
   "execution_count": null,
   "id": "d3d8456e",
   "metadata": {},
   "outputs": [],
   "source": [
    "import plotly.express as px\n",
    "df = px.data.gapminder().query(\"year == 2007\")\n",
    "fig = px.scatter_geo(df, locations=\"iso_alpha\",\n",
    "                     size=\"pop\", # size of markers, \"pop\" is one of the columns of gapminder\n",
    "                     )\n",
    "fig.show()"
   ]
  }
 ],
 "metadata": {
  "kernelspec": {
   "display_name": "Python 3 (ipykernel)",
   "language": "python",
   "name": "python3"
  },
  "language_info": {
   "codemirror_mode": {
    "name": "ipython",
    "version": 3
   },
   "file_extension": ".py",
   "mimetype": "text/x-python",
   "name": "python",
   "nbconvert_exporter": "python",
   "pygments_lexer": "ipython3",
   "version": "3.8.12"
  }
 },
 "nbformat": 4,
 "nbformat_minor": 5
}
